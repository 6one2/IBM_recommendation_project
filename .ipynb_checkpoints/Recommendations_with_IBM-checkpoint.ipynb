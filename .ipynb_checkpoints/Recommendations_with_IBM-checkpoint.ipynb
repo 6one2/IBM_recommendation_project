{
 "cells": [
  {
   "cell_type": "markdown",
   "metadata": {},
   "source": [
    "# Recommendations with IBM\n",
    "\n",
    "In this notebook, you will be putting your recommendation skills to use on real data from the IBM Watson Studio platform. \n",
    "\n",
    "\n",
    "You may either submit your notebook through the workspace here, or you may work from your local machine and submit through the next page.  Either way assure that your code passes the project [RUBRIC](Need to update this).  **Please save regularly.**\n",
    "\n",
    "By following the table of contents, you will build out a number of different methods for making recommendations that can be used for different situations. \n",
    "\n",
    "\n",
    "## Table of Contents\n",
    "\n",
    "I. [Exploratory Data Analysis](#Exploratory-Data-Analysis)<br>\n",
    "II. [Rank Based Recommendations](#Rank)<br>\n",
    "III. [User-User Based Collaborative Filtering](#User-User)<br>\n",
    "IV. [Content Based Recommendations (EXTRA - NOT REQUIRED)](#Content-Recs)<br>\n",
    "V. [Matrix Factorization](#Matrix-Fact)<br>\n",
    "VI. [Extras & Concluding](#conclusions)\n",
    "\n",
    "At the end of the notebook, you will find directions for how to submit your work.  Let's get started by importing the necessary libraries and reading in the data."
   ]
  },
  {
   "cell_type": "code",
   "execution_count": 1,
   "metadata": {},
   "outputs": [
    {
     "data": {
      "text/html": [
       "<div>\n",
       "<style scoped>\n",
       "    .dataframe tbody tr th:only-of-type {\n",
       "        vertical-align: middle;\n",
       "    }\n",
       "\n",
       "    .dataframe tbody tr th {\n",
       "        vertical-align: top;\n",
       "    }\n",
       "\n",
       "    .dataframe thead th {\n",
       "        text-align: right;\n",
       "    }\n",
       "</style>\n",
       "<table border=\"1\" class=\"dataframe\">\n",
       "  <thead>\n",
       "    <tr style=\"text-align: right;\">\n",
       "      <th></th>\n",
       "      <th>article_id</th>\n",
       "      <th>title</th>\n",
       "      <th>email</th>\n",
       "    </tr>\n",
       "  </thead>\n",
       "  <tbody>\n",
       "    <tr>\n",
       "      <th>0</th>\n",
       "      <td>1430.0</td>\n",
       "      <td>using pixiedust for fast, flexible, and easier...</td>\n",
       "      <td>ef5f11f77ba020cd36e1105a00ab868bbdbf7fe7</td>\n",
       "    </tr>\n",
       "    <tr>\n",
       "      <th>1</th>\n",
       "      <td>1314.0</td>\n",
       "      <td>healthcare python streaming application demo</td>\n",
       "      <td>083cbdfa93c8444beaa4c5f5e0f5f9198e4f9e0b</td>\n",
       "    </tr>\n",
       "    <tr>\n",
       "      <th>2</th>\n",
       "      <td>1429.0</td>\n",
       "      <td>use deep learning for image classification</td>\n",
       "      <td>b96a4f2e92d8572034b1e9b28f9ac673765cd074</td>\n",
       "    </tr>\n",
       "    <tr>\n",
       "      <th>3</th>\n",
       "      <td>1338.0</td>\n",
       "      <td>ml optimization using cognitive assistant</td>\n",
       "      <td>06485706b34a5c9bf2a0ecdac41daf7e7654ceb7</td>\n",
       "    </tr>\n",
       "    <tr>\n",
       "      <th>4</th>\n",
       "      <td>1276.0</td>\n",
       "      <td>deploy your python model as a restful api</td>\n",
       "      <td>f01220c46fc92c6e6b161b1849de11faacd7ccb2</td>\n",
       "    </tr>\n",
       "  </tbody>\n",
       "</table>\n",
       "</div>"
      ],
      "text/plain": [
       "   article_id                                              title  \\\n",
       "0      1430.0  using pixiedust for fast, flexible, and easier...   \n",
       "1      1314.0       healthcare python streaming application demo   \n",
       "2      1429.0         use deep learning for image classification   \n",
       "3      1338.0          ml optimization using cognitive assistant   \n",
       "4      1276.0          deploy your python model as a restful api   \n",
       "\n",
       "                                      email  \n",
       "0  ef5f11f77ba020cd36e1105a00ab868bbdbf7fe7  \n",
       "1  083cbdfa93c8444beaa4c5f5e0f5f9198e4f9e0b  \n",
       "2  b96a4f2e92d8572034b1e9b28f9ac673765cd074  \n",
       "3  06485706b34a5c9bf2a0ecdac41daf7e7654ceb7  \n",
       "4  f01220c46fc92c6e6b161b1849de11faacd7ccb2  "
      ]
     },
     "execution_count": 1,
     "metadata": {},
     "output_type": "execute_result"
    }
   ],
   "source": [
    "import pandas as pd\n",
    "import numpy as np\n",
    "import matplotlib.pyplot as plt\n",
    "import project_tests as t\n",
    "\n",
    "%matplotlib inline\n",
    "\n",
    "df = pd.read_csv('data/user-item-interactions.csv')\n",
    "df_content = pd.read_csv('data/articles_community.csv')\n",
    "del df['Unnamed: 0']\n",
    "del df_content['Unnamed: 0']\n",
    "\n",
    "# Show df to get an idea of the data\n",
    "df.head()"
   ]
  },
  {
   "cell_type": "code",
   "execution_count": 2,
   "metadata": {},
   "outputs": [
    {
     "data": {
      "text/html": [
       "<div>\n",
       "<style scoped>\n",
       "    .dataframe tbody tr th:only-of-type {\n",
       "        vertical-align: middle;\n",
       "    }\n",
       "\n",
       "    .dataframe tbody tr th {\n",
       "        vertical-align: top;\n",
       "    }\n",
       "\n",
       "    .dataframe thead th {\n",
       "        text-align: right;\n",
       "    }\n",
       "</style>\n",
       "<table border=\"1\" class=\"dataframe\">\n",
       "  <thead>\n",
       "    <tr style=\"text-align: right;\">\n",
       "      <th></th>\n",
       "      <th>doc_body</th>\n",
       "      <th>doc_description</th>\n",
       "      <th>doc_full_name</th>\n",
       "      <th>doc_status</th>\n",
       "      <th>article_id</th>\n",
       "    </tr>\n",
       "  </thead>\n",
       "  <tbody>\n",
       "    <tr>\n",
       "      <th>0</th>\n",
       "      <td>Skip navigation Sign in SearchLoading...\\r\\n\\r...</td>\n",
       "      <td>Detect bad readings in real time using Python ...</td>\n",
       "      <td>Detect Malfunctioning IoT Sensors with Streami...</td>\n",
       "      <td>Live</td>\n",
       "      <td>0</td>\n",
       "    </tr>\n",
       "    <tr>\n",
       "      <th>1</th>\n",
       "      <td>No Free Hunch Navigation * kaggle.com\\r\\n\\r\\n ...</td>\n",
       "      <td>See the forest, see the trees. Here lies the c...</td>\n",
       "      <td>Communicating data science: A guide to present...</td>\n",
       "      <td>Live</td>\n",
       "      <td>1</td>\n",
       "    </tr>\n",
       "    <tr>\n",
       "      <th>2</th>\n",
       "      <td>☰ * Login\\r\\n * Sign Up\\r\\n\\r\\n * Learning Pat...</td>\n",
       "      <td>Here’s this week’s news in Data Science and Bi...</td>\n",
       "      <td>This Week in Data Science (April 18, 2017)</td>\n",
       "      <td>Live</td>\n",
       "      <td>2</td>\n",
       "    </tr>\n",
       "    <tr>\n",
       "      <th>3</th>\n",
       "      <td>DATALAYER: HIGH THROUGHPUT, LOW LATENCY AT SCA...</td>\n",
       "      <td>Learn how distributed DBs solve the problem of...</td>\n",
       "      <td>DataLayer Conference: Boost the performance of...</td>\n",
       "      <td>Live</td>\n",
       "      <td>3</td>\n",
       "    </tr>\n",
       "    <tr>\n",
       "      <th>4</th>\n",
       "      <td>Skip navigation Sign in SearchLoading...\\r\\n\\r...</td>\n",
       "      <td>This video demonstrates the power of IBM DataS...</td>\n",
       "      <td>Analyze NY Restaurant data using Spark in DSX</td>\n",
       "      <td>Live</td>\n",
       "      <td>4</td>\n",
       "    </tr>\n",
       "  </tbody>\n",
       "</table>\n",
       "</div>"
      ],
      "text/plain": [
       "                                            doc_body  \\\n",
       "0  Skip navigation Sign in SearchLoading...\\r\\n\\r...   \n",
       "1  No Free Hunch Navigation * kaggle.com\\r\\n\\r\\n ...   \n",
       "2  ☰ * Login\\r\\n * Sign Up\\r\\n\\r\\n * Learning Pat...   \n",
       "3  DATALAYER: HIGH THROUGHPUT, LOW LATENCY AT SCA...   \n",
       "4  Skip navigation Sign in SearchLoading...\\r\\n\\r...   \n",
       "\n",
       "                                     doc_description  \\\n",
       "0  Detect bad readings in real time using Python ...   \n",
       "1  See the forest, see the trees. Here lies the c...   \n",
       "2  Here’s this week’s news in Data Science and Bi...   \n",
       "3  Learn how distributed DBs solve the problem of...   \n",
       "4  This video demonstrates the power of IBM DataS...   \n",
       "\n",
       "                                       doc_full_name doc_status  article_id  \n",
       "0  Detect Malfunctioning IoT Sensors with Streami...       Live           0  \n",
       "1  Communicating data science: A guide to present...       Live           1  \n",
       "2         This Week in Data Science (April 18, 2017)       Live           2  \n",
       "3  DataLayer Conference: Boost the performance of...       Live           3  \n",
       "4      Analyze NY Restaurant data using Spark in DSX       Live           4  "
      ]
     },
     "execution_count": 2,
     "metadata": {},
     "output_type": "execute_result"
    }
   ],
   "source": [
    "# Show df_content to get an idea of the data\n",
    "df_content.head()"
   ]
  },
  {
   "cell_type": "markdown",
   "metadata": {},
   "source": [
    "### <a class=\"anchor\" id=\"Exploratory-Data-Analysis\">Part I : Exploratory Data Analysis</a>\n",
    "\n",
    "Use the dictionary and cells below to provide some insight into the descriptive statistics of the data.\n",
    "\n",
    "`1.` What is the distribution of how many articles a user interacts with in the dataset?  Provide a visual and descriptive statistics to assist with giving a look at the number of times each user interacts with an article.  "
   ]
  },
  {
   "cell_type": "code",
   "execution_count": 3,
   "metadata": {},
   "outputs": [
    {
     "name": "stdout",
     "output_type": "stream",
     "text": [
      "<class 'pandas.core.frame.DataFrame'>\n",
      "RangeIndex: 45993 entries, 0 to 45992\n",
      "Data columns (total 3 columns):\n",
      " #   Column      Non-Null Count  Dtype \n",
      "---  ------      --------------  ----- \n",
      " 0   article_id  45993 non-null  object\n",
      " 1   title       45993 non-null  object\n",
      " 2   email       45976 non-null  object\n",
      "dtypes: object(3)\n",
      "memory usage: 1.1+ MB\n"
     ]
    }
   ],
   "source": [
    "df['article_id'] = df['article_id'].astype('str')\n",
    "df.info()"
   ]
  },
  {
   "cell_type": "code",
   "execution_count": 4,
   "metadata": {},
   "outputs": [
    {
     "data": {
      "text/html": [
       "<div>\n",
       "<style scoped>\n",
       "    .dataframe tbody tr th:only-of-type {\n",
       "        vertical-align: middle;\n",
       "    }\n",
       "\n",
       "    .dataframe tbody tr th {\n",
       "        vertical-align: top;\n",
       "    }\n",
       "\n",
       "    .dataframe thead tr th {\n",
       "        text-align: left;\n",
       "    }\n",
       "\n",
       "    .dataframe thead tr:last-of-type th {\n",
       "        text-align: right;\n",
       "    }\n",
       "</style>\n",
       "<table border=\"1\" class=\"dataframe\">\n",
       "  <thead>\n",
       "    <tr>\n",
       "      <th></th>\n",
       "      <th colspan=\"4\" halign=\"left\">article_id</th>\n",
       "      <th colspan=\"4\" halign=\"left\">title</th>\n",
       "    </tr>\n",
       "    <tr>\n",
       "      <th></th>\n",
       "      <th>count</th>\n",
       "      <th>unique</th>\n",
       "      <th>top</th>\n",
       "      <th>freq</th>\n",
       "      <th>count</th>\n",
       "      <th>unique</th>\n",
       "      <th>top</th>\n",
       "      <th>freq</th>\n",
       "    </tr>\n",
       "    <tr>\n",
       "      <th>email</th>\n",
       "      <th></th>\n",
       "      <th></th>\n",
       "      <th></th>\n",
       "      <th></th>\n",
       "      <th></th>\n",
       "      <th></th>\n",
       "      <th></th>\n",
       "      <th></th>\n",
       "    </tr>\n",
       "  </thead>\n",
       "  <tbody>\n",
       "    <tr>\n",
       "      <th>0000b6387a0366322d7fbfc6434af145adf7fed1</th>\n",
       "      <td>13</td>\n",
       "      <td>12</td>\n",
       "      <td>43.0</td>\n",
       "      <td>2</td>\n",
       "      <td>13</td>\n",
       "      <td>12</td>\n",
       "      <td>deep learning with tensorflow course by big da...</td>\n",
       "      <td>2</td>\n",
       "    </tr>\n",
       "    <tr>\n",
       "      <th>001055fc0bb67f71e8fa17002342b256a30254cd</th>\n",
       "      <td>4</td>\n",
       "      <td>4</td>\n",
       "      <td>124.0</td>\n",
       "      <td>1</td>\n",
       "      <td>4</td>\n",
       "      <td>4</td>\n",
       "      <td>introducing ibm watson studio</td>\n",
       "      <td>1</td>\n",
       "    </tr>\n",
       "    <tr>\n",
       "      <th>00148e4911c7e04eeff8def7bbbdaf1c59c2c621</th>\n",
       "      <td>3</td>\n",
       "      <td>3</td>\n",
       "      <td>258.0</td>\n",
       "      <td>1</td>\n",
       "      <td>3</td>\n",
       "      <td>3</td>\n",
       "      <td>small steps to tensorflow</td>\n",
       "      <td>1</td>\n",
       "    </tr>\n",
       "    <tr>\n",
       "      <th>001a852ecbd6cc12ab77a785efa137b2646505fe</th>\n",
       "      <td>6</td>\n",
       "      <td>5</td>\n",
       "      <td>1364.0</td>\n",
       "      <td>2</td>\n",
       "      <td>6</td>\n",
       "      <td>5</td>\n",
       "      <td>predicting churn with the spss random tree alg...</td>\n",
       "      <td>2</td>\n",
       "    </tr>\n",
       "    <tr>\n",
       "      <th>001fc95b90da5c3cb12c501d201a915e4f093290</th>\n",
       "      <td>2</td>\n",
       "      <td>2</td>\n",
       "      <td>1364.0</td>\n",
       "      <td>1</td>\n",
       "      <td>2</td>\n",
       "      <td>2</td>\n",
       "      <td>predicting churn with the spss random tree alg...</td>\n",
       "      <td>1</td>\n",
       "    </tr>\n",
       "    <tr>\n",
       "      <th>...</th>\n",
       "      <td>...</td>\n",
       "      <td>...</td>\n",
       "      <td>...</td>\n",
       "      <td>...</td>\n",
       "      <td>...</td>\n",
       "      <td>...</td>\n",
       "      <td>...</td>\n",
       "      <td>...</td>\n",
       "    </tr>\n",
       "    <tr>\n",
       "      <th>ffc6cfa435937ca0df967b44e9178439d04e3537</th>\n",
       "      <td>2</td>\n",
       "      <td>1</td>\n",
       "      <td>1053.0</td>\n",
       "      <td>2</td>\n",
       "      <td>2</td>\n",
       "      <td>1</td>\n",
       "      <td>access mysql with python</td>\n",
       "      <td>2</td>\n",
       "    </tr>\n",
       "    <tr>\n",
       "      <th>ffc96f8fbb35aac4cb0029332b0fc78e7766bb5d</th>\n",
       "      <td>4</td>\n",
       "      <td>2</td>\n",
       "      <td>1432.0</td>\n",
       "      <td>3</td>\n",
       "      <td>4</td>\n",
       "      <td>2</td>\n",
       "      <td>visualize data with the matplotlib library</td>\n",
       "      <td>3</td>\n",
       "    </tr>\n",
       "    <tr>\n",
       "      <th>ffe3d0543c9046d35c2ee3724ea9d774dff98a32</th>\n",
       "      <td>32</td>\n",
       "      <td>27</td>\n",
       "      <td>1422.0</td>\n",
       "      <td>3</td>\n",
       "      <td>32</td>\n",
       "      <td>27</td>\n",
       "      <td>use r dataframes &amp; ibm watson natural language...</td>\n",
       "      <td>3</td>\n",
       "    </tr>\n",
       "    <tr>\n",
       "      <th>fff9fc3ec67bd18ed57a34ed1e67410942c4cd81</th>\n",
       "      <td>10</td>\n",
       "      <td>7</td>\n",
       "      <td>684.0</td>\n",
       "      <td>3</td>\n",
       "      <td>10</td>\n",
       "      <td>7</td>\n",
       "      <td>flexdashboard: interactive dashboards for r</td>\n",
       "      <td>3</td>\n",
       "    </tr>\n",
       "    <tr>\n",
       "      <th>fffb93a166547448a0ff0232558118d59395fecd</th>\n",
       "      <td>13</td>\n",
       "      <td>6</td>\n",
       "      <td>1305.0</td>\n",
       "      <td>8</td>\n",
       "      <td>13</td>\n",
       "      <td>6</td>\n",
       "      <td>gosales transactions for naive bayes model</td>\n",
       "      <td>8</td>\n",
       "    </tr>\n",
       "  </tbody>\n",
       "</table>\n",
       "<p>5148 rows × 8 columns</p>\n",
       "</div>"
      ],
      "text/plain": [
       "                                         article_id                     title  \\\n",
       "                                              count unique     top freq count   \n",
       "email                                                                           \n",
       "0000b6387a0366322d7fbfc6434af145adf7fed1         13     12    43.0    2    13   \n",
       "001055fc0bb67f71e8fa17002342b256a30254cd          4      4   124.0    1     4   \n",
       "00148e4911c7e04eeff8def7bbbdaf1c59c2c621          3      3   258.0    1     3   \n",
       "001a852ecbd6cc12ab77a785efa137b2646505fe          6      5  1364.0    2     6   \n",
       "001fc95b90da5c3cb12c501d201a915e4f093290          2      2  1364.0    1     2   \n",
       "...                                             ...    ...     ...  ...   ...   \n",
       "ffc6cfa435937ca0df967b44e9178439d04e3537          2      1  1053.0    2     2   \n",
       "ffc96f8fbb35aac4cb0029332b0fc78e7766bb5d          4      2  1432.0    3     4   \n",
       "ffe3d0543c9046d35c2ee3724ea9d774dff98a32         32     27  1422.0    3    32   \n",
       "fff9fc3ec67bd18ed57a34ed1e67410942c4cd81         10      7   684.0    3    10   \n",
       "fffb93a166547448a0ff0232558118d59395fecd         13      6  1305.0    8    13   \n",
       "\n",
       "                                                 \\\n",
       "                                         unique   \n",
       "email                                             \n",
       "0000b6387a0366322d7fbfc6434af145adf7fed1     12   \n",
       "001055fc0bb67f71e8fa17002342b256a30254cd      4   \n",
       "00148e4911c7e04eeff8def7bbbdaf1c59c2c621      3   \n",
       "001a852ecbd6cc12ab77a785efa137b2646505fe      5   \n",
       "001fc95b90da5c3cb12c501d201a915e4f093290      2   \n",
       "...                                         ...   \n",
       "ffc6cfa435937ca0df967b44e9178439d04e3537      1   \n",
       "ffc96f8fbb35aac4cb0029332b0fc78e7766bb5d      2   \n",
       "ffe3d0543c9046d35c2ee3724ea9d774dff98a32     27   \n",
       "fff9fc3ec67bd18ed57a34ed1e67410942c4cd81      7   \n",
       "fffb93a166547448a0ff0232558118d59395fecd      6   \n",
       "\n",
       "                                                                                             \\\n",
       "                                                                                        top   \n",
       "email                                                                                         \n",
       "0000b6387a0366322d7fbfc6434af145adf7fed1  deep learning with tensorflow course by big da...   \n",
       "001055fc0bb67f71e8fa17002342b256a30254cd                     introducing ibm watson studio    \n",
       "00148e4911c7e04eeff8def7bbbdaf1c59c2c621                          small steps to tensorflow   \n",
       "001a852ecbd6cc12ab77a785efa137b2646505fe  predicting churn with the spss random tree alg...   \n",
       "001fc95b90da5c3cb12c501d201a915e4f093290  predicting churn with the spss random tree alg...   \n",
       "...                                                                                     ...   \n",
       "ffc6cfa435937ca0df967b44e9178439d04e3537                           access mysql with python   \n",
       "ffc96f8fbb35aac4cb0029332b0fc78e7766bb5d         visualize data with the matplotlib library   \n",
       "ffe3d0543c9046d35c2ee3724ea9d774dff98a32  use r dataframes & ibm watson natural language...   \n",
       "fff9fc3ec67bd18ed57a34ed1e67410942c4cd81        flexdashboard: interactive dashboards for r   \n",
       "fffb93a166547448a0ff0232558118d59395fecd         gosales transactions for naive bayes model   \n",
       "\n",
       "                                               \n",
       "                                         freq  \n",
       "email                                          \n",
       "0000b6387a0366322d7fbfc6434af145adf7fed1    2  \n",
       "001055fc0bb67f71e8fa17002342b256a30254cd    1  \n",
       "00148e4911c7e04eeff8def7bbbdaf1c59c2c621    1  \n",
       "001a852ecbd6cc12ab77a785efa137b2646505fe    2  \n",
       "001fc95b90da5c3cb12c501d201a915e4f093290    1  \n",
       "...                                       ...  \n",
       "ffc6cfa435937ca0df967b44e9178439d04e3537    2  \n",
       "ffc96f8fbb35aac4cb0029332b0fc78e7766bb5d    3  \n",
       "ffe3d0543c9046d35c2ee3724ea9d774dff98a32    3  \n",
       "fff9fc3ec67bd18ed57a34ed1e67410942c4cd81    3  \n",
       "fffb93a166547448a0ff0232558118d59395fecd    8  \n",
       "\n",
       "[5148 rows x 8 columns]"
      ]
     },
     "execution_count": 4,
     "metadata": {},
     "output_type": "execute_result"
    }
   ],
   "source": [
    "df_stats = df.groupby('email').describe()\n",
    "df_stats"
   ]
  },
  {
   "cell_type": "code",
   "execution_count": 5,
   "metadata": {},
   "outputs": [
    {
     "name": "stdout",
     "output_type": "stream",
     "text": [
      "50% of individuals interact with 3.0 articles or fewer\n",
      "The maximum number of user-article interactions by any 1 user is 364\n"
     ]
    }
   ],
   "source": [
    "# Fill in the median and maximum number of user_article interactios below\n",
    "\n",
    "median_val = df_stats['article_id']['unique'].median()# 50% of individuals interact with ____ number of articles or fewer.\n",
    "print(f'50% of individuals interact with {median_val} articles or fewer')\n",
    "\n",
    "max_views_by_user = df_stats['article_id']['count'].max()# The maximum number of user-article interactions by any 1 user is ______.\n",
    "print(f'The maximum number of user-article interactions by any 1 user is {max_views_by_user}')"
   ]
  },
  {
   "cell_type": "markdown",
   "metadata": {},
   "source": [
    "`2.` Explore and remove duplicate articles from the **df_content** dataframe.  "
   ]
  },
  {
   "cell_type": "code",
   "execution_count": 6,
   "metadata": {},
   "outputs": [
    {
     "data": {
      "text/html": [
       "<div>\n",
       "<style scoped>\n",
       "    .dataframe tbody tr th:only-of-type {\n",
       "        vertical-align: middle;\n",
       "    }\n",
       "\n",
       "    .dataframe tbody tr th {\n",
       "        vertical-align: top;\n",
       "    }\n",
       "\n",
       "    .dataframe thead th {\n",
       "        text-align: right;\n",
       "    }\n",
       "</style>\n",
       "<table border=\"1\" class=\"dataframe\">\n",
       "  <thead>\n",
       "    <tr style=\"text-align: right;\">\n",
       "      <th></th>\n",
       "      <th>doc_body</th>\n",
       "      <th>doc_description</th>\n",
       "      <th>doc_full_name</th>\n",
       "      <th>doc_status</th>\n",
       "      <th>article_id</th>\n",
       "    </tr>\n",
       "  </thead>\n",
       "  <tbody>\n",
       "    <tr>\n",
       "      <th>365</th>\n",
       "      <td>Follow Sign in / Sign up Home About Insight Da...</td>\n",
       "      <td>During the seven-week Insight Data Engineering...</td>\n",
       "      <td>Graph-based machine learning</td>\n",
       "      <td>Live</td>\n",
       "      <td>50</td>\n",
       "    </tr>\n",
       "    <tr>\n",
       "      <th>692</th>\n",
       "      <td>Homepage Follow Sign in / Sign up Homepage * H...</td>\n",
       "      <td>One of the earliest documented catalogs was co...</td>\n",
       "      <td>How smart catalogs can turn the big data flood...</td>\n",
       "      <td>Live</td>\n",
       "      <td>221</td>\n",
       "    </tr>\n",
       "    <tr>\n",
       "      <th>761</th>\n",
       "      <td>Homepage Follow Sign in Get started Homepage *...</td>\n",
       "      <td>Today’s world of data science leverages data f...</td>\n",
       "      <td>Using Apache Spark as a parallel processing fr...</td>\n",
       "      <td>Live</td>\n",
       "      <td>398</td>\n",
       "    </tr>\n",
       "    <tr>\n",
       "      <th>970</th>\n",
       "      <td>This video shows you how to construct queries ...</td>\n",
       "      <td>This video shows you how to construct queries ...</td>\n",
       "      <td>Use the Primary Index</td>\n",
       "      <td>Live</td>\n",
       "      <td>577</td>\n",
       "    </tr>\n",
       "    <tr>\n",
       "      <th>971</th>\n",
       "      <td>Homepage Follow Sign in Get started * Home\\r\\n...</td>\n",
       "      <td>If you are like most data scientists, you are ...</td>\n",
       "      <td>Self-service data preparation with IBM Data Re...</td>\n",
       "      <td>Live</td>\n",
       "      <td>232</td>\n",
       "    </tr>\n",
       "  </tbody>\n",
       "</table>\n",
       "</div>"
      ],
      "text/plain": [
       "                                              doc_body  \\\n",
       "365  Follow Sign in / Sign up Home About Insight Da...   \n",
       "692  Homepage Follow Sign in / Sign up Homepage * H...   \n",
       "761  Homepage Follow Sign in Get started Homepage *...   \n",
       "970  This video shows you how to construct queries ...   \n",
       "971  Homepage Follow Sign in Get started * Home\\r\\n...   \n",
       "\n",
       "                                       doc_description  \\\n",
       "365  During the seven-week Insight Data Engineering...   \n",
       "692  One of the earliest documented catalogs was co...   \n",
       "761  Today’s world of data science leverages data f...   \n",
       "970  This video shows you how to construct queries ...   \n",
       "971  If you are like most data scientists, you are ...   \n",
       "\n",
       "                                         doc_full_name doc_status  article_id  \n",
       "365                       Graph-based machine learning       Live          50  \n",
       "692  How smart catalogs can turn the big data flood...       Live         221  \n",
       "761  Using Apache Spark as a parallel processing fr...       Live         398  \n",
       "970                              Use the Primary Index       Live         577  \n",
       "971  Self-service data preparation with IBM Data Re...       Live         232  "
      ]
     },
     "execution_count": 6,
     "metadata": {},
     "output_type": "execute_result"
    }
   ],
   "source": [
    "# Find and explore duplicate articles\n",
    "mask = df_content['article_id'].duplicated(keep='first')\n",
    "df_content[mask]"
   ]
  },
  {
   "cell_type": "code",
   "execution_count": 7,
   "metadata": {},
   "outputs": [
    {
     "data": {
      "text/html": [
       "<div>\n",
       "<style scoped>\n",
       "    .dataframe tbody tr th:only-of-type {\n",
       "        vertical-align: middle;\n",
       "    }\n",
       "\n",
       "    .dataframe tbody tr th {\n",
       "        vertical-align: top;\n",
       "    }\n",
       "\n",
       "    .dataframe thead th {\n",
       "        text-align: right;\n",
       "    }\n",
       "</style>\n",
       "<table border=\"1\" class=\"dataframe\">\n",
       "  <thead>\n",
       "    <tr style=\"text-align: right;\">\n",
       "      <th></th>\n",
       "      <th>doc_body</th>\n",
       "      <th>doc_description</th>\n",
       "      <th>doc_full_name</th>\n",
       "      <th>doc_status</th>\n",
       "      <th>article_id</th>\n",
       "    </tr>\n",
       "  </thead>\n",
       "  <tbody>\n",
       "    <tr>\n",
       "      <th>50</th>\n",
       "      <td>Follow Sign in / Sign up Home About Insight Da...</td>\n",
       "      <td>Community Detection at Scale</td>\n",
       "      <td>Graph-based machine learning</td>\n",
       "      <td>Live</td>\n",
       "      <td>50</td>\n",
       "    </tr>\n",
       "  </tbody>\n",
       "</table>\n",
       "</div>"
      ],
      "text/plain": [
       "                                             doc_body  \\\n",
       "50  Follow Sign in / Sign up Home About Insight Da...   \n",
       "\n",
       "                 doc_description                 doc_full_name doc_status  \\\n",
       "50  Community Detection at Scale  Graph-based machine learning       Live   \n",
       "\n",
       "    article_id  \n",
       "50          50  "
      ]
     },
     "execution_count": 7,
     "metadata": {},
     "output_type": "execute_result"
    }
   ],
   "source": [
    "# Remove any rows that have the same article_id - only keep the first\n",
    "df_content = df_content[~mask]\n",
    "\n",
    "# test if only 1 record of one example of duplicate (#50)\n",
    "df_content.query('article_id == 50')"
   ]
  },
  {
   "cell_type": "markdown",
   "metadata": {},
   "source": [
    "`3.` Use the cells below to find:\n",
    "\n",
    "**a.** The number of unique articles that have an interaction with a user.  \n",
    "**b.** The number of unique articles in the dataset (whether they have any interactions or not).<br>\n",
    "**c.** The number of unique users in the dataset. (excluding null values)<br> \n",
    "**d.** The number of user-article interactions in the dataset."
   ]
  },
  {
   "cell_type": "code",
   "execution_count": 8,
   "metadata": {},
   "outputs": [
    {
     "name": "stdout",
     "output_type": "stream",
     "text": [
      "The number of unique articles that have at least one interaction: 714\n",
      "The number of unique articles on the IBM platform: 1051\n",
      "The number of unique users: 5149\n",
      "The number of user-article interactions: 45993\n"
     ]
    }
   ],
   "source": [
    "unique_articles = len(df['article_id'].unique())# The number of unique articles that have at least one interaction\n",
    "print(f'The number of unique articles that have at least one interaction: {unique_articles}')\n",
    "\n",
    "total_articles = len(df_content)# The number of unique articles on the IBM platform\n",
    "print(f'The number of unique articles on the IBM platform: {total_articles}')\n",
    "\n",
    "unique_users = len(df['email'].unique())# The number of unique users\n",
    "print(f'The number of unique users: {unique_users}')\n",
    "\n",
    "user_article_interactions = len(df)# The number of user-article interactions\n",
    "print(f'The number of user-article interactions: {user_article_interactions}')"
   ]
  },
  {
   "cell_type": "markdown",
   "metadata": {},
   "source": [
    "`4.` Use the cells below to find the most viewed **article_id**, as well as how often it was viewed.  After talking to the company leaders, the `email_mapper` function was deemed a reasonable way to map users to ids.  There were a small number of null values, and it was find using other information that all of these null values likely belonged to a single user."
   ]
  },
  {
   "cell_type": "code",
   "execution_count": 9,
   "metadata": {},
   "outputs": [
    {
     "name": "stdout",
     "output_type": "stream",
     "text": [
      "The most viewed article in the dataset was the article id: 1429.0\n",
      "The most viewed article in the dataset was viewed: 937 times\n"
     ]
    }
   ],
   "source": [
    "sorted_article = most_viewed_article_id = df.groupby('article_id').size().sort_values(ascending=False)\n",
    "\n",
    "most_viewed_article_id = str(sorted_article.index[0])# The most viewed article in the dataset as a string with one value following the decimal\n",
    "print(f'The most viewed article in the dataset was the article id: {most_viewed_article_id}')\n",
    "\n",
    "max_views = sorted_article.values[0]# The most viewed article in the dataset was viewed how many times?\n",
    "print(f'The most viewed article in the dataset was viewed: {max_views} times')"
   ]
  },
  {
   "cell_type": "code",
   "execution_count": 10,
   "metadata": {},
   "outputs": [
    {
     "data": {
      "text/html": [
       "<div>\n",
       "<style scoped>\n",
       "    .dataframe tbody tr th:only-of-type {\n",
       "        vertical-align: middle;\n",
       "    }\n",
       "\n",
       "    .dataframe tbody tr th {\n",
       "        vertical-align: top;\n",
       "    }\n",
       "\n",
       "    .dataframe thead th {\n",
       "        text-align: right;\n",
       "    }\n",
       "</style>\n",
       "<table border=\"1\" class=\"dataframe\">\n",
       "  <thead>\n",
       "    <tr style=\"text-align: right;\">\n",
       "      <th></th>\n",
       "      <th>article_id</th>\n",
       "      <th>title</th>\n",
       "      <th>user_id</th>\n",
       "    </tr>\n",
       "  </thead>\n",
       "  <tbody>\n",
       "    <tr>\n",
       "      <th>0</th>\n",
       "      <td>1430.0</td>\n",
       "      <td>using pixiedust for fast, flexible, and easier...</td>\n",
       "      <td>1</td>\n",
       "    </tr>\n",
       "    <tr>\n",
       "      <th>1</th>\n",
       "      <td>1314.0</td>\n",
       "      <td>healthcare python streaming application demo</td>\n",
       "      <td>2</td>\n",
       "    </tr>\n",
       "    <tr>\n",
       "      <th>2</th>\n",
       "      <td>1429.0</td>\n",
       "      <td>use deep learning for image classification</td>\n",
       "      <td>3</td>\n",
       "    </tr>\n",
       "    <tr>\n",
       "      <th>3</th>\n",
       "      <td>1338.0</td>\n",
       "      <td>ml optimization using cognitive assistant</td>\n",
       "      <td>4</td>\n",
       "    </tr>\n",
       "    <tr>\n",
       "      <th>4</th>\n",
       "      <td>1276.0</td>\n",
       "      <td>deploy your python model as a restful api</td>\n",
       "      <td>5</td>\n",
       "    </tr>\n",
       "  </tbody>\n",
       "</table>\n",
       "</div>"
      ],
      "text/plain": [
       "  article_id                                              title  user_id\n",
       "0     1430.0  using pixiedust for fast, flexible, and easier...        1\n",
       "1     1314.0       healthcare python streaming application demo        2\n",
       "2     1429.0         use deep learning for image classification        3\n",
       "3     1338.0          ml optimization using cognitive assistant        4\n",
       "4     1276.0          deploy your python model as a restful api        5"
      ]
     },
     "execution_count": 10,
     "metadata": {},
     "output_type": "execute_result"
    }
   ],
   "source": [
    "## No need to change the code here - this will be helpful for later parts of the notebook\n",
    "# Run this cell to map the user email to a user_id column and remove the email column\n",
    "\n",
    "def email_mapper():\n",
    "    coded_dict = dict()\n",
    "    cter = 1\n",
    "    email_encoded = []\n",
    "    \n",
    "    for val in df['email']:\n",
    "        if val not in coded_dict:\n",
    "            coded_dict[val] = cter\n",
    "            cter+=1\n",
    "        \n",
    "        email_encoded.append(coded_dict[val])\n",
    "    return email_encoded\n",
    "\n",
    "email_encoded = email_mapper()\n",
    "del df['email']\n",
    "df['user_id'] = email_encoded\n",
    "\n",
    "# show header\n",
    "df.head()"
   ]
  },
  {
   "cell_type": "code",
   "execution_count": 11,
   "metadata": {},
   "outputs": [
    {
     "name": "stdout",
     "output_type": "stream",
     "text": [
      "It looks like you have everything right here! Nice job!\n"
     ]
    }
   ],
   "source": [
    "## If you stored all your results in the variable names above, \n",
    "## you shouldn't need to change anything in this cell\n",
    "\n",
    "sol_1_dict = {\n",
    "    '`50% of individuals have _____ or fewer interactions.`': median_val,\n",
    "    '`The total number of user-article interactions in the dataset is ______.`': user_article_interactions,\n",
    "    '`The maximum number of user-article interactions by any 1 user is ______.`': max_views_by_user,\n",
    "    '`The most viewed article in the dataset was viewed _____ times.`': max_views,\n",
    "    '`The article_id of the most viewed article is ______.`': most_viewed_article_id,\n",
    "    '`The number of unique articles that have at least 1 rating ______.`': unique_articles,\n",
    "    '`The number of unique users in the dataset is ______`': unique_users,\n",
    "    '`The number of unique articles on the IBM platform`': total_articles\n",
    "}\n",
    "\n",
    "# Test your dictionary against the solution\n",
    "t.sol_1_test(sol_1_dict)"
   ]
  },
  {
   "cell_type": "markdown",
   "metadata": {},
   "source": [
    "### <a class=\"anchor\" id=\"Rank\">Part II: Rank-Based Recommendations</a>\n",
    "\n",
    "Unlike in the earlier lessons, we don't actually have ratings for whether a user liked an article or not.  We only know that a user has interacted with an article.  In these cases, the popularity of an article can really only be based on how often an article was interacted with.\n",
    "\n",
    "`1.` Fill in the function below to return the **n** top articles ordered with most interactions as the top. Test your function using the tests below."
   ]
  },
  {
   "cell_type": "code",
   "execution_count": 12,
   "metadata": {},
   "outputs": [
    {
     "data": {
      "text/html": [
       "<div>\n",
       "<style scoped>\n",
       "    .dataframe tbody tr th:only-of-type {\n",
       "        vertical-align: middle;\n",
       "    }\n",
       "\n",
       "    .dataframe tbody tr th {\n",
       "        vertical-align: top;\n",
       "    }\n",
       "\n",
       "    .dataframe thead th {\n",
       "        text-align: right;\n",
       "    }\n",
       "</style>\n",
       "<table border=\"1\" class=\"dataframe\">\n",
       "  <thead>\n",
       "    <tr style=\"text-align: right;\">\n",
       "      <th></th>\n",
       "      <th>article_id</th>\n",
       "      <th>title</th>\n",
       "      <th>user_id</th>\n",
       "    </tr>\n",
       "  </thead>\n",
       "  <tbody>\n",
       "    <tr>\n",
       "      <th>0</th>\n",
       "      <td>1430.0</td>\n",
       "      <td>using pixiedust for fast, flexible, and easier...</td>\n",
       "      <td>1</td>\n",
       "    </tr>\n",
       "    <tr>\n",
       "      <th>1</th>\n",
       "      <td>1314.0</td>\n",
       "      <td>healthcare python streaming application demo</td>\n",
       "      <td>2</td>\n",
       "    </tr>\n",
       "    <tr>\n",
       "      <th>2</th>\n",
       "      <td>1429.0</td>\n",
       "      <td>use deep learning for image classification</td>\n",
       "      <td>3</td>\n",
       "    </tr>\n",
       "    <tr>\n",
       "      <th>3</th>\n",
       "      <td>1338.0</td>\n",
       "      <td>ml optimization using cognitive assistant</td>\n",
       "      <td>4</td>\n",
       "    </tr>\n",
       "    <tr>\n",
       "      <th>4</th>\n",
       "      <td>1276.0</td>\n",
       "      <td>deploy your python model as a restful api</td>\n",
       "      <td>5</td>\n",
       "    </tr>\n",
       "  </tbody>\n",
       "</table>\n",
       "</div>"
      ],
      "text/plain": [
       "  article_id                                              title  user_id\n",
       "0     1430.0  using pixiedust for fast, flexible, and easier...        1\n",
       "1     1314.0       healthcare python streaming application demo        2\n",
       "2     1429.0         use deep learning for image classification        3\n",
       "3     1338.0          ml optimization using cognitive assistant        4\n",
       "4     1276.0          deploy your python model as a restful api        5"
      ]
     },
     "execution_count": 12,
     "metadata": {},
     "output_type": "execute_result"
    }
   ],
   "source": [
    "df.head()"
   ]
  },
  {
   "cell_type": "code",
   "execution_count": 13,
   "metadata": {},
   "outputs": [
    {
     "data": {
      "text/plain": [
       "['1429.0',\n",
       " '1330.0',\n",
       " '1431.0',\n",
       " '1427.0',\n",
       " '1364.0',\n",
       " '1314.0',\n",
       " '1293.0',\n",
       " '1170.0',\n",
       " '1162.0',\n",
       " '1304.0']"
      ]
     },
     "execution_count": 13,
     "metadata": {},
     "output_type": "execute_result"
    }
   ],
   "source": [
    "n=10\n",
    "top_articles = df.groupby('article_id')['user_id'].size().sort_values(ascending=False)[:n]\n",
    "list(top_articles.index)"
   ]
  },
  {
   "cell_type": "code",
   "execution_count": 14,
   "metadata": {},
   "outputs": [],
   "source": [
    "def get_top_articles(n, df=df):\n",
    "    '''\n",
    "    INPUT:\n",
    "    n - (int) the number of top articles to return\n",
    "    df - (pandas dataframe) df as defined at the top of the notebook \n",
    "    \n",
    "    OUTPUT:\n",
    "    top_articles - (list) A list of the top 'n' article titles \n",
    "    \n",
    "    '''\n",
    "    # Your code here\\\n",
    "    \n",
    "    top_articles = df.groupby('title')['user_id'].size().sort_values(ascending=False)[:n]\n",
    "    \n",
    "    return top_articles.index.tolist() # Return the top article titles from df (not df_content)\n",
    "\n",
    "def get_top_article_ids(n, df=df):\n",
    "    '''\n",
    "    INPUT:\n",
    "    n - (int) the number of top articles to return\n",
    "    df - (pandas dataframe) df as defined at the top of the notebook \n",
    "    \n",
    "    OUTPUT:\n",
    "    top_articles - (list) A list of the top 'n' article titles \n",
    "    \n",
    "    '''\n",
    "    # Your code here\n",
    "    top_articles = df.groupby('article_id')['user_id'].size().sort_values(ascending=False)[:n]\n",
    " \n",
    "    return top_articles.index.tolist() # Return the top article ids"
   ]
  },
  {
   "cell_type": "code",
   "execution_count": 15,
   "metadata": {},
   "outputs": [
    {
     "name": "stdout",
     "output_type": "stream",
     "text": [
      "['use deep learning for image classification', 'insights from new york car accident reports', 'visualize car data with brunel', 'use xgboost, scikit-learn & ibm watson machine learning apis', 'predicting churn with the spss random tree algorithm', 'healthcare python streaming application demo', 'finding optimal locations of new store using decision optimization', 'apache spark lab, part 1: basic concepts', 'analyze energy consumption in buildings', 'gosales transactions for logistic regression model']\n",
      "['1429.0', '1330.0', '1431.0', '1427.0', '1364.0', '1314.0', '1293.0', '1170.0', '1162.0', '1304.0']\n"
     ]
    }
   ],
   "source": [
    "print(get_top_articles(10))\n",
    "print(get_top_article_ids(10))"
   ]
  },
  {
   "cell_type": "code",
   "execution_count": 16,
   "metadata": {},
   "outputs": [
    {
     "name": "stdout",
     "output_type": "stream",
     "text": [
      "Your top_5 looks like the solution list! Nice job.\n",
      "Your top_10 looks like the solution list! Nice job.\n",
      "Your top_20 looks like the solution list! Nice job.\n"
     ]
    }
   ],
   "source": [
    "# Test your function by returning the top 5, 10, and 20 articles\n",
    "top_5 = get_top_articles(5)\n",
    "top_10 = get_top_articles(10)\n",
    "top_20 = get_top_articles(20)\n",
    "\n",
    "# Test each of your three lists from above\n",
    "t.sol_2_test(get_top_articles)"
   ]
  },
  {
   "cell_type": "markdown",
   "metadata": {},
   "source": [
    "### <a class=\"anchor\" id=\"User-User\">Part III: User-User Based Collaborative Filtering</a>\n",
    "\n",
    "\n",
    "`1.` Use the function below to reformat the **df** dataframe to be shaped with users as the rows and articles as the columns.  \n",
    "\n",
    "* Each **user** should only appear in each **row** once.\n",
    "\n",
    "\n",
    "* Each **article** should only show up in one **column**.  \n",
    "\n",
    "\n",
    "* **If a user has interacted with an article, then place a 1 where the user-row meets for that article-column**.  It does not matter how many times a user has interacted with the article, all entries where a user has interacted with an article should be a 1.  \n",
    "\n",
    "\n",
    "* **If a user has not interacted with an item, then place a zero where the user-row meets for that article-column**. \n",
    "\n",
    "Use the tests to make sure the basic structure of your matrix matches what is expected by the solution."
   ]
  },
  {
   "cell_type": "code",
   "execution_count": 17,
   "metadata": {},
   "outputs": [],
   "source": [
    "# create the user-article matrix with 1's and 0's\n",
    "\n",
    "def create_user_item_matrix(df):\n",
    "    '''\n",
    "    INPUT:\n",
    "    df - pandas dataframe with article_id, title, user_id columns\n",
    "    \n",
    "    OUTPUT:\n",
    "    user_item - (pandas dataframe) user item matrix \n",
    "    \n",
    "    Description:\n",
    "    Return a matrix with user ids as rows and article ids on the columns with 1 values where a user interacted with \n",
    "    an article and a 0 otherwise\n",
    "    '''\n",
    "    # Fill in the function here\n",
    "    user_list = df['user_id'].unique()\n",
    "    item_list = df['article_id'].unique()\n",
    "    \n",
    "    user_item = np.zeros((len(user_list), len(item_list)))\n",
    "    n_df = pd.DataFrame(user_item,index=user_list, columns=item_list)\n",
    "    \n",
    "    for usr in n_df.iterrows():\n",
    "        list_1 = df.query('user_id == @usr[0]')['article_id'].values.tolist()\n",
    "        usr[1][list_1]=1\n",
    "    \n",
    "    user_item = n_df\n",
    "    \n",
    "    return user_item # return the user_item matrix \n",
    "\n",
    "user_item = create_user_item_matrix(df)"
   ]
  },
  {
   "cell_type": "code",
   "execution_count": 18,
   "metadata": {},
   "outputs": [
    {
     "name": "stdout",
     "output_type": "stream",
     "text": [
      "You have passed our quick tests!  Please proceed!\n"
     ]
    }
   ],
   "source": [
    "user_item_test = user_item.to_numpy() # turn into numpy matrix for test\n",
    "## Tests: You should just need to run this cell.  Don't change the code.\n",
    "assert user_item_test.shape[0] == 5149, \"Oops!  The number of users in the user-article matrix doesn't look right.\"\n",
    "assert user_item_test.shape[1] == 714, \"Oops!  The number of articles in the user-article matrix doesn't look right.\"\n",
    "assert user_item_test.sum(axis=1)[0] == 36, \"Oops!  The number of articles seen by user 1 doesn't look right.\"\n",
    "print(\"You have passed our quick tests!  Please proceed!\")"
   ]
  },
  {
   "cell_type": "markdown",
   "metadata": {},
   "source": [
    "`2.` Complete the function below which should take a user_id and provide an ordered list of the most similar users to that user (from most similar to least similar).  The returned result should not contain the provided user_id, as we know that each user is similar to him/herself. Because the results for each user here are binary, it (perhaps) makes sense to compute similarity as the dot product of two users. \n",
    "\n",
    "Use the tests to test your function."
   ]
  },
  {
   "cell_type": "code",
   "execution_count": 19,
   "metadata": {},
   "outputs": [],
   "source": [
    "def find_similar_users(user_id, user_item=user_item):\n",
    "    '''\n",
    "    INPUT:\n",
    "    user_id - (int) a user_id\n",
    "    user_item - (pandas dataframe) matrix of users by articles: \n",
    "                1's when a user has interacted with an article, 0 otherwise\n",
    "    \n",
    "    OUTPUT:\n",
    "    similar_users - (list) an ordered list where the closest users (largest dot product users)\n",
    "                    are listed first\n",
    "    \n",
    "    Description:\n",
    "    Computes the similarity of every pair of users based on the dot product\n",
    "    Returns an ordered\n",
    "    \n",
    "    '''\n",
    "    \n",
    "    # compute similarity of each user to the provided user\n",
    "    dot_user = user_item.dot(user_item.T)\n",
    "\n",
    "    # sort by similarity\n",
    "    similarity = dot_user[user_id].sort_values(ascending=False)\n",
    "\n",
    "    # create list of just the ids\n",
    "    most_similar_users = similarity.index.tolist()\n",
    "   \n",
    "    # remove the own user's id\n",
    "    most_similar_users.remove(user_id)\n",
    "       \n",
    "    return most_similar_users # return a list of the users in order from most to least similar\n",
    "        "
   ]
  },
  {
   "cell_type": "code",
   "execution_count": 20,
   "metadata": {},
   "outputs": [
    {
     "name": "stdout",
     "output_type": "stream",
     "text": [
      "The 10 most similar users to user 1 are: [3933, 23, 3782, 203, 4459, 131, 3870, 46, 4201, 5041]\n",
      "The 5 most similar users to user 3933 are: [1, 23, 3782, 4459, 203]\n",
      "The 3 most similar users to user 46 are: [4201, 23, 3782]\n"
     ]
    }
   ],
   "source": [
    "# Do a spot check of your function\n",
    "print(\"The 10 most similar users to user 1 are: {}\".format(find_similar_users(1)[:10]))\n",
    "print(\"The 5 most similar users to user 3933 are: {}\".format(find_similar_users(3933)[:5]))\n",
    "print(\"The 3 most similar users to user 46 are: {}\".format(find_similar_users(46)[:3]))"
   ]
  },
  {
   "cell_type": "markdown",
   "metadata": {},
   "source": [
    "`3.` Now that you have a function that provides the most similar users to each user, you will want to use these users to find articles you can recommend.  Complete the functions below to return the articles you would recommend to each user. "
   ]
  },
  {
   "cell_type": "code",
   "execution_count": 21,
   "metadata": {},
   "outputs": [],
   "source": [
    "def get_article_names(article_ids, df=df):\n",
    "    '''\n",
    "    INPUT:\n",
    "    article_ids - (list) a list of article ids\n",
    "    df - (pandas dataframe) df as defined at the top of the notebook\n",
    "    \n",
    "    OUTPUT:\n",
    "    article_names - (list) a list of article names associated with the list of article ids \n",
    "                    (this is identified by the title column)\n",
    "    '''\n",
    "    # Your code here\n",
    "    article_names = df.query('article_id in @article_ids')['title']\n",
    "    \n",
    "    return article_names.unique().tolist() # Return the article names associated with list of article ids\n",
    "\n",
    "\n",
    "def get_user_articles(user_id, user_item=user_item):\n",
    "    '''\n",
    "    INPUT:\n",
    "    user_id - (int) a user id\n",
    "    user_item - (pandas dataframe) matrix of users by articles: \n",
    "                1's when a user has interacted with an article, 0 otherwise\n",
    "    \n",
    "    OUTPUT:\n",
    "    article_ids - (list) a list of the article ids seen by the user\n",
    "    article_names - (list) a list of article names associated with the list of article ids \n",
    "    \n",
    "    Description:\n",
    "    Provides a list of the article_ids and article titles that have been seen by a user\n",
    "    '''\n",
    "    # Your code here\n",
    "    mask = user_item.loc[user_id,:]==1\n",
    "    article_ids = user_item.columns[mask].tolist()\n",
    "    \n",
    "    article_names = get_article_names(article_ids)\n",
    "    \n",
    "    return article_ids, article_names # return the ids and names\n",
    "\n",
    "\n",
    "def user_user_recs(user_id, m=10):\n",
    "    '''\n",
    "    INPUT:\n",
    "    user_id - (int) a user id\n",
    "    m - (int) the number of recommendations you want for the user\n",
    "    \n",
    "    OUTPUT:\n",
    "    recs - (list) a list of recommendations for the user\n",
    "    \n",
    "    Description:\n",
    "    Loops through the users based on closeness to the input user_id\n",
    "    For each user - finds articles the user hasn't seen before and provides them as recs\n",
    "    Does this until m recommendations are found\n",
    "    \n",
    "    Notes:\n",
    "    Users who are the same closeness are chosen arbitrarily as the 'next' user\n",
    "    \n",
    "    For the user where the number of recommended articles starts below m \n",
    "    and ends exceeding m, the last items are chosen arbitrarily\n",
    "    \n",
    "    '''\n",
    "    # Your code here\n",
    "    similar_users = find_similar_users(user_id)\n",
    "    read_articles_ids, _ = get_user_articles(user_id)\n",
    "    recs=[]\n",
    "    \n",
    "    while len(recs) <= m:\n",
    "        for neighbor in similar_users:\n",
    "            ids, _ = get_user_articles(neighbor)\n",
    "            set_potential = set(ids).difference(set(read_articles_ids))\n",
    "            set_remains = set_potential.difference(set(recs))\n",
    "            recs.extend(list(set_remains))\n",
    "    \n",
    "    return recs[:m] # return your recommendations for this user_id    "
   ]
  },
  {
   "cell_type": "code",
   "execution_count": 22,
   "metadata": {},
   "outputs": [
    {
     "data": {
      "text/plain": [
       "['ml optimization using cognitive assistant',\n",
       " 'analyze energy consumption in buildings',\n",
       " 'analyze open data sets with spark & pixiedust',\n",
       " 'simple graphing with ipython and\\xa0pandas',\n",
       " 'deep learning with data science experience',\n",
       " 'spark-based machine learning tools for capturing word meanings',\n",
       " 'spark 2.1 and job monitoring available in dsx',\n",
       " 'recent trends in recommender systems',\n",
       " 'airbnb data for analytics: mallorca reviews',\n",
       " 'visualising data the node.js way']"
      ]
     },
     "execution_count": 22,
     "metadata": {},
     "output_type": "execute_result"
    }
   ],
   "source": [
    "# Check Results\n",
    "get_article_names(user_user_recs(1, 10)) # Return 10 recommendations for user 1"
   ]
  },
  {
   "cell_type": "code",
   "execution_count": 23,
   "metadata": {},
   "outputs": [
    {
     "name": "stdout",
     "output_type": "stream",
     "text": [
      "If this is all you see, you passed all of our tests!  Nice job!\n"
     ]
    }
   ],
   "source": [
    "# Test your functions here - No need to change this code - just run this cell\n",
    "assert set(get_article_names(['1024.0', '1176.0', '1305.0', '1314.0', '1422.0', '1427.0'])) == set(['using deep learning to reconstruct high-resolution audio', 'build a python app on the streaming analytics service', 'gosales transactions for naive bayes model', 'healthcare python streaming application demo', 'use r dataframes & ibm watson natural language understanding', 'use xgboost, scikit-learn & ibm watson machine learning apis']), \"Oops! Your the get_article_names function doesn't work quite how we expect.\"\n",
    "assert set(get_article_names(['1320.0', '232.0', '844.0'])) == set(['housing (2015): united states demographic measures','self-service data preparation with ibm data refinery','use the cloudant-spark connector in python notebook']), \"Oops! Your the get_article_names function doesn't work quite how we expect.\"\n",
    "assert set(get_user_articles(20)[0]) == set(['1320.0', '232.0', '844.0'])\n",
    "assert set(get_user_articles(20)[1]) == set(['housing (2015): united states demographic measures', 'self-service data preparation with ibm data refinery','use the cloudant-spark connector in python notebook'])\n",
    "assert set(get_user_articles(2)[0]) == set(['1024.0', '1176.0', '1305.0', '1314.0', '1422.0', '1427.0'])\n",
    "assert set(get_user_articles(2)[1]) == set(['using deep learning to reconstruct high-resolution audio', 'build a python app on the streaming analytics service', 'gosales transactions for naive bayes model', 'healthcare python streaming application demo', 'use r dataframes & ibm watson natural language understanding', 'use xgboost, scikit-learn & ibm watson machine learning apis'])\n",
    "print(\"If this is all you see, you passed all of our tests!  Nice job!\")"
   ]
  },
  {
   "cell_type": "markdown",
   "metadata": {},
   "source": [
    "`4.` Now we are going to improve the consistency of the **user_user_recs** function from above.  \n",
    "\n",
    "* Instead of arbitrarily choosing when we obtain users who are all the same closeness to a given user - choose the users that have the most total article interactions before choosing those with fewer article interactions.\n",
    "\n",
    "\n",
    "* Instead of arbitrarily choosing articles from the user where the number of recommended articles starts below m and ends exceeding m, choose articles with the articles with the most total interactions before choosing those with fewer total interactions. This ranking should be  what would be obtained from the **top_articles** function you wrote earlier."
   ]
  },
  {
   "cell_type": "code",
   "execution_count": 111,
   "metadata": {},
   "outputs": [],
   "source": [
    "def get_top_sorted_users(user_id, df=df, user_item=user_item):\n",
    "    '''\n",
    "    INPUT:\n",
    "    user_id - (int)\n",
    "    df - (pandas dataframe) df as defined at the top of the notebook \n",
    "    user_item - (pandas dataframe) matrix of users by articles: \n",
    "            1's when a user has interacted with an article, 0 otherwise\n",
    "    \n",
    "            \n",
    "    OUTPUT:\n",
    "    neighbors_df - (pandas dataframe) a dataframe with:\n",
    "                    neighbor_id - is a neighbor user_id\n",
    "                    similarity - measure of the similarity of each user to the provided user_id\n",
    "                    num_interactions - the number of articles viewed by the user - if a u\n",
    "                    \n",
    "    Other Details - sort the neighbors_df by the similarity and then by number of interactions where \n",
    "                    highest of each is higher in the dataframe\n",
    "     \n",
    "    '''\n",
    "    # Your code here \n",
    "    dot_user = user_item.dot(user_item.T)\n",
    "    similarity = dot_user[user_id]\n",
    "    neighbors_df =  pd.DataFrame(similarity.drop(user_id).reset_index())\n",
    "    neighbors_df.columns = ['neighbor_id', 'similarity']\n",
    "    \n",
    "    neighbors_df['num_interactions'] = neighbors_df['neighbor_id'].\\\n",
    "        apply(lambda x: len(df.query('user_id == @x')))\n",
    "    \n",
    "    neighbors_df = neighbors_df.sort_values(by=['similarity', 'num_interactions'], ascending=False)\n",
    "    \n",
    "    return neighbors_df.reset_index(drop=True) # Return the dataframe specified in the doc_string\n",
    "\n",
    "\n",
    "def user_user_recs_part2(user_id, m=10):\n",
    "    '''\n",
    "    INPUT:\n",
    "    user_id - (int) a user id\n",
    "    m - (int) the number of recommendations you want for the user\n",
    "    \n",
    "    OUTPUT:\n",
    "    recs - (list) a list of recommendations for the user by article id\n",
    "    rec_names - (list) a list of recommendations for the user by article title\n",
    "    \n",
    "    Description:\n",
    "    Loops through the users based on closeness to the input user_id\n",
    "    For each user - finds articles the user hasn't seen before and provides them as recs\n",
    "    Does this until m recommendations are found\n",
    "    \n",
    "    Notes:\n",
    "    * Choose the users that have the most total article interactions \n",
    "    before choosing those with fewer article interactions.\n",
    "\n",
    "    * Choose articles with the articles with the most total interactions \n",
    "    before choosing those with fewer total interactions. \n",
    "   \n",
    "    '''\n",
    "    # Your code here\n",
    "    similar_users = get_top_sorted_users(user_id)\n",
    "    read_articles_ids, _ = get_user_articles(user_id)\n",
    "    recs=[]\n",
    "    \n",
    "    while len(recs) <= m:\n",
    "        for neighbor in similar_users['neighbor_id']:\n",
    "            ids, _ = get_user_articles(neighbor)\n",
    "            set_potential = set(ids).difference(set(read_articles_ids))\n",
    "            set_remains = set_potential.difference(set(recs))\n",
    "            recs.extend(list(set_remains))\n",
    "    \n",
    "    top_articles = df.query('article_id in @recs').groupby('article_id')['user_id'].size()\n",
    "    recs_ids = top_articles.sort_values(ascending=False).index.tolist()[:m]\n",
    "    recs_names = get_article_names(recs_ids)\n",
    "    \n",
    "    return recs_ids, recs_names"
   ]
  },
  {
   "cell_type": "code",
   "execution_count": 96,
   "metadata": {},
   "outputs": [],
   "source": [
    "top_articles = df.groupby('title')['user_id'].size().sort_values(ascending=False)\n",
    "\n",
    "user_id = 46\n",
    "similar_users = get_top_sorted_users(user_id)\n",
    "read_articles_ids, _ = get_user_articles(user_id)\n",
    "recs=[]"
   ]
  },
  {
   "cell_type": "code",
   "execution_count": 90,
   "metadata": {},
   "outputs": [
    {
     "data": {
      "text/html": [
       "<div>\n",
       "<style scoped>\n",
       "    .dataframe tbody tr th:only-of-type {\n",
       "        vertical-align: middle;\n",
       "    }\n",
       "\n",
       "    .dataframe tbody tr th {\n",
       "        vertical-align: top;\n",
       "    }\n",
       "\n",
       "    .dataframe thead th {\n",
       "        text-align: right;\n",
       "    }\n",
       "</style>\n",
       "<table border=\"1\" class=\"dataframe\">\n",
       "  <thead>\n",
       "    <tr style=\"text-align: right;\">\n",
       "      <th></th>\n",
       "      <th>neighbor_id</th>\n",
       "      <th>similarity</th>\n",
       "      <th>num_interactions</th>\n",
       "    </tr>\n",
       "  </thead>\n",
       "  <tbody>\n",
       "    <tr>\n",
       "      <th>0</th>\n",
       "      <td>4201</td>\n",
       "      <td>40.0</td>\n",
       "      <td>61</td>\n",
       "    </tr>\n",
       "    <tr>\n",
       "      <th>1</th>\n",
       "      <td>23</td>\n",
       "      <td>26.0</td>\n",
       "      <td>364</td>\n",
       "    </tr>\n",
       "    <tr>\n",
       "      <th>2</th>\n",
       "      <td>3782</td>\n",
       "      <td>26.0</td>\n",
       "      <td>363</td>\n",
       "    </tr>\n",
       "    <tr>\n",
       "      <th>3</th>\n",
       "      <td>203</td>\n",
       "      <td>18.0</td>\n",
       "      <td>160</td>\n",
       "    </tr>\n",
       "    <tr>\n",
       "      <th>4</th>\n",
       "      <td>4459</td>\n",
       "      <td>18.0</td>\n",
       "      <td>158</td>\n",
       "    </tr>\n",
       "  </tbody>\n",
       "</table>\n",
       "</div>"
      ],
      "text/plain": [
       "   neighbor_id  similarity  num_interactions\n",
       "0         4201        40.0                61\n",
       "1           23        26.0               364\n",
       "2         3782        26.0               363\n",
       "3          203        18.0               160\n",
       "4         4459        18.0               158"
      ]
     },
     "execution_count": 90,
     "metadata": {},
     "output_type": "execute_result"
    }
   ],
   "source": [
    "similar_users[:5]"
   ]
  },
  {
   "cell_type": "code",
   "execution_count": null,
   "metadata": {},
   "outputs": [],
   "source": [
    "neighbor = 23\n",
    "ids, _ = get_user_articles(neighbor)\n",
    "set_potential = set(ids).difference(set(read_articles_ids))\n",
    "set_potential"
   ]
  },
  {
   "cell_type": "code",
   "execution_count": 108,
   "metadata": {},
   "outputs": [
    {
     "data": {
      "text/plain": [
       "['1330.0',\n",
       " '1431.0',\n",
       " '1314.0',\n",
       " '1304.0',\n",
       " '1160.0',\n",
       " '1354.0',\n",
       " '1338.0',\n",
       " '1336.0',\n",
       " '1165.0',\n",
       " '1172.0']"
      ]
     },
     "execution_count": 108,
     "metadata": {},
     "output_type": "execute_result"
    }
   ],
   "source": [
    "top_articles = df.query('article_id in list(@set_potential)').groupby('article_id')['user_id'].size()\n",
    "top_articles.sort_values(ascending=False).index.tolist()[:10]"
   ]
  },
  {
   "cell_type": "code",
   "execution_count": 103,
   "metadata": {},
   "outputs": [
    {
     "data": {
      "text/plain": [
       "45993"
      ]
     },
     "execution_count": 103,
     "metadata": {},
     "output_type": "execute_result"
    }
   ],
   "source": [
    "len(df)"
   ]
  },
  {
   "cell_type": "code",
   "execution_count": 110,
   "metadata": {},
   "outputs": [
    {
     "name": "stdout",
     "output_type": "stream",
     "text": [
      "The top 10 recommendations for user 20 are the following article ids:\n",
      "['1338.0', '1162.0', '1163.0', '1420.0', '465.0', '1351.0', '1276.0', '1085.0', '125.0', '1324.0', '1354.0', '651.0', '1154.0', '1426.0', '1424.0', '1330.0', '1304.0', '555.0', '1172.0', '1411.0', '1360.0', '1153.0', '1368.0', '1391.0', '880.0', '1357.0', '1329.0', '205.0', '1409.0', '302.0', '686.0', '1278.0', '1296.0', '336.0', '793.0', '1396.0', '1386.0', '1331.0', '761.0', '1444.0', '1160.0', '1433.0', '142.0', '1336.0', '1356.0', '911.0', '939.0', '1170.0', '1024.0', '1151.0', '681.0', '362.0', '1157.0', '1427.0', '1407.0', '1410.0', '109.0', '1346.0', '1176.0', '1152.0', '1166.0', '1335.0', '1367.0', '164.0', '12.0', '1364.0', '981.0', '1150.0', '730.0', '316.0', '237.0', '273.0', '382.0', '221.0', '990.0', '1271.0', '1059.0', '1305.0', '1293.0', '857.0', '33.0', '43.0', '1429.0', '813.0', '1186.0', '933.0', '491.0', '763.0', '1314.0', '607.0', '51.0', '253.0', '609.0', '130.0', '390.0', '692.0', '468.0', '415.0', '111.0', '151.0', '1014.0', '29.0', '347.0', '14.0', '547.0', '1164.0', '858.0', '876.0', '153.0', '1432.0', '244.0', '315.0', '379.0', '162.0', '1422.0', '967.0', '1332.0', '464.0', '1430.0', '1277.0', '313.0', '482.0', '1035.0', '1400.0', '528.0', '1397.0', '1366.0', '667.0', '1006.0', '1181.0', '1185.0', '1165.0', '1184.0', '112.0', '337.0', '723.0', '1437.0', '684.0', '1431.0', '213.0', '903.0', '225.0', '444.0', '1173.0', '1161.0', '599.0', '1298.0', '34.0', '949.0', '1436.0', '695.0', '1189.0', '563.0', '1175.0', '1191.0', '821.0', '928.0', '1052.0', '1393.0', '158.0', '1169.0', '1416.0', '1418.0', '617.0', '1274.0', '124.0', '655.0', '1439.0', '314.0', '256.0', '495.0', '53.0', '1053.0', '727.0', '110.0', '89.0', '1280.0', '1403.0', '1328.0', '1402.0', '40.0', '254.0', '1018.0', '193.0', '1363.0', '263.0', '20.0', '658.0', '744.0', '975.0', '470.0', '173.0', '108.0', '855.0', '986.0', '647.0', '2.0', '477.0', '462.0', '812.0', '1054.0', '1025.0', '665.0', '1425.0', '825.0', '310.0', '522.0', '1048.0', '349.0', '194.0', '1286.0', '1198.0', '969.0', '57.0', '833.0', '1047.0', '1116.0', '101.0', '409.0', '1171.0', '898.0', '766.0', '645.0', '74.0', '116.0', '120.0', '1299.0', '202.0', '353.0', '30.0', '319.0', '656.0', '1423.0', '729.0', '1158.0', '1406.0', '1174.0', '1282.0', '215.0', '1124.0', '152.0', '230.0', '98.0', '1343.0', '1398.0', '1168.0', '223.0', '957.0', '1017.0', '1435.0', '475.0', '195.0', '878.0', '252.0', '951.0', '260.0', '600.0', '868.0', '508.0', '943.0', '359.0', '525.0', '268.0', '1318.0', '241.0', '1050.0', '887.0', '76.0', '725.0', '721.0', '278.0', '864.0', '1016.0', '210.0', '1028.0', '1004.0', '68.0', '500.0', '284.0', '92.0', '411.0', '906.0', '936.0', '1260.0', '1061.0', '1159.0', '641.0', '722.0', '846.0', '1197.0', '39.0', '189.0', '1349.0', '369.0', '1067.0', '1190.0', '542.0', '1261.0', '1051.0', '1143.0', '593.0', '1412.0', '1195.0', '1401.0', '311.0', '1404.0', '1313.0', '1362.0', '1405.0', '1060.0', '1058.0', '1079.0', '732.0', '1219.0', '78.0', '50.0', '258.0', '420.0', '544.0', '1055.0', '303.0', '283.0', '136.0', '132.0', '795.0', '682.0', '622.0', '865.0', '440.0', '1337.0', '1149.0', '891.0', '585.0', '107.0', '1428.0', '1395.0', '567.0', '18.0', '948.0', '323.0', '1289.0', '348.0', '1358.0', '131.0', '8.0', '297.0', '233.0', '583.0', '460.0', '1441.0', '1070.0', '634.0', '236.0', '1359.0', '1443.0', '679.0', '1155.0', '1134.0', '502.0', '295.0', '1394.0', '1106.0', '412.0', '1434.0', '1142.0', '1263.0', '113.0', '510.0', '1180.0', '102.0', '749.0', '145.0', '455.0', '1178.0', '764.0', '25.0', '463.0', '54.0', '381.0', '240.0', '36.0', '586.0', '1075.0', '1077.0', '1321.0', '1199.0', '176.0', '962.0', '1120.0', '1068.0', '1057.0', '4.0', '32.0', '670.0', '930.0', '485.0', '250.0', '788.0', '181.0', '1000.0', '1179.0', '1273.0', '843.0', '224.0', '1056.0', '965.0', '1044.0', '955.0', '103.0', '564.0', '1138.0', '1378.0', '1377.0', '693.0', '122.0', '428.0', '138.0', '659.0', '616.0', '784.0', '958.0', '996.0', '1042.0', '1208.0', '1408.0', '910.0', '673.0', '80.0', '871.0', '751.0', '1348.0', '266.0', '782.0', '1317.0', '881.0', '291.0', '339.0', '959.0', '809.0', '492.0', '400.0', '669.0', '251.0', '606.0', '184.0', '62.0', '426.0', '905.0', '861.0', '346.0', '9.0', '1281.0', '1440.0', '1183.0', '399.0', '146.0', '1203.0', '785.0', '926.0', '735.0', '715.0', '952.0', '532.0', '896.0', '373.0', '16.0', '143.0', '15.0', '329.0', '486.0', '81.0', '191.0', '60.0', '383.0', '705.0', '1279.0', '1167.0', '1415.0', '350.0', '1074.0', '115.0', '1387.0', '404.0', '1306.0', '1080.0', '446.0', '566.0', '427.0', '479.0', '48.0', '324.0', '973.0', '367.0', '720.0', '299.0', '524.0', '1291.0', '800.0', '26.0', '517.0', '28.0', '1101.0', '422.0', '1148.0', '352.0', '1226.0', '1361.0', '64.0', '680.0', '760.0', '65.0', '234.0', '1188.0', '59.0', '398.0', '768.0', '1350.0', '862.0', '553.0', '1307.0', '448.0', '534.0', '618.0', '1254.0', '557.0', '559.0', '853.0', '494.0', '935.0', '569.0', '759.0', '288.0', '1252.0', '977.0', '677.0', '239.0', '882.0', '1015.0', '919.0', '1137.0', '892.0', '474.0', '632.0', '1225.0', '1192.0', '499.0', '1145.0', '1114.0', '1253.0', '1062.0', '480.0', '968.0', '1030.0', '1146.0', '1141.0', '1147.0', '1144.0', '1139.0', '1140.0', '375.0', '993.0', '1297.0', '351.0', '515.0', '356.0', '631.0', '1073.0', '1071.0', '941.0', '1038.0', '473.0', '1112.0', '1292.0', '1066.0', '0.0', '330.0', '575.0', '1008.0', '805.0', '1257.0', '1295.0', '389.0', '117.0', '376.0', '668.0', '1177.0', '1290.0', '1065.0', '1221.0', '395.0', '1227.0', '610.0', '1333.0', '588.0', '932.0', '1232.0', '626.0', '1390.0', '1294.0', '1135.0', '366.0', '1419.0', '188.0', '636.0', '134.0', '985.0', '270.0', '1308.0', '87.0', '1315.0', '1091.0', '183.0', '644.0', '1340.0', '757.0', '82.0', '1125.0', '1063.0', '1123.0', '1064.0', '714.0', '701.0', '740.0', '58.0', '678.0', '758.0', '416.0', '1326.0', '1334.0', '1187.0', '1414.0', '1319.0', '1108.0', '298.0', '1089.0', '157.0', '1369.0', '1285.0', '100.0', '429.0', '504.0', '940.0', '77.0', '364.0', '1228.0', '870.0', '1121.0', '1130.0', '355.0', '1084.0', '1251.0', '96.0', '1072.0', '384.0', '1303.0', '1235.0', '884.0', '961.0', '984.0', '1283.0', '1196.0', '1086.0', '1083.0', '1442.0', '1206.0', '1097.0', '521.0', '437.0', '443.0', '947.0', '1267.0', '1043.0', '778.0', '1122.0', '1344.0', '1365.0', '781.0', '277.0', '1210.0', '1355.0', '1092.0', '1069.0', '972.0', '708.0', '1244.0', '1128.0', '1234.0', '724.0', '430.0', '997.0', '1372.0', '1371.0', '1078.0', '363.0', '1247.0', '1156.0', '662.0', '1266.0', '1119.0', '974.0', '1230.0', '1200.0', '1113.0', '1421.0', '1233.0', '653.0', '1202.0', '417.0', '675.0', '1237.0', '1127.0']\n",
      "\n",
      "The top 10 recommendations for user 20 are the following article names:\n",
      "['using pixiedust for fast, flexible, and easier data analysis and experimentation', 'healthcare python streaming application demo', 'use deep learning for image classification', 'ml optimization using cognitive assistant', 'deploy your python model as a restful api', 'visualize data with the matplotlib library', 'upload files to ibm data science experience using the command line', 'classify tumors with machine learning', 'configuring the apache spark sql context', 'got zip code data? prep it for analytics. – ibm watson data lab – medium', 'the unit commitment problem', 'apache spark lab, part 1: basic concepts', 'getting started with python', 'timeseries data analysis of iot events by using jupyter notebook', '10 must attend data science, ml and ai conferences in 2018', 'access db2 warehouse on cloud and db2 with python', 'the nurse assignment problem', 'dsx: hybrid mode', 'predicting churn with the spss random tree algorithm', 'data science for real-time streaming analytics', 'analyze energy consumption in buildings', 'ibm watson facebook posts for 2015', 'web picks - dataminingapps', 'visualize car data with brunel', 'common excel tasks demonstrated in\\xa0pandas', 'analyze open data sets with pandas dataframes', 'use xgboost, scikit-learn & ibm watson machine learning apis', 'intents & examples for ibm watson conversation', 'apache spark lab, part 3: machine learning', 'uci: sms spam collection', 'putting a human face on machine learning', 'gosales transactions for naive bayes model', 'access mysql with python', 'access mysql with r', 'ibm data science experience white paper - sparkr transforming r into a tool for big data analytics', 'gosales transactions for logistic regression model', 'welcome to pixiedust', 'leverage python, scikit, and text classification for behavioral profiling', 'dry bulb temperature, by country, station and year', 'world tourism data by the world tourism organization', 'an introduction to stock market data analysis with r (part 1)', 'insights from new york car accident reports', 'maximize oil company profits', 'airbnb data for analytics: austin listings', 'city population by sex, city and city type', 'using github for project control in dsx', 'use sql with data in hadoop python', 'discover hidden facebook usage insights', 'overfitting in machine learning: what it is and how to prevent it', 'use apache systemml and spark for machine learning', 'analyze open data sets with spark & pixiedust', 'uci ml repository: chronic kidney disease data set', 'uci: heart disease - cleveland', 'income (2015): united states demographic measures', 'apache spark as the new engine of genomics', 'how to use version control (github) in rstudio within dsx?', 'pixieapp for outlier detection', 'excel files: loading from object storage — python', 'developing for the ibm streaming analytics service', 'building a business that combines human experts and data science', 'time series prediction using recurrent neural networks (lstms)', 'simple graphing with ipython and\\xa0pandas', 'graph-based machine learning', 'airbnb data for analytics: washington d.c. listings', 'uci: white wine quality', 'model bike sharing data with spss', 'data visualization with r: scrum metrics', 'contraceptive prevalence (% women 15-49) by country', 'optimizing a marketing campaign: moving from predictions to actions', 'analyze precipitation data', 'airbnb data for analytics: amsterdam calendar', 'finding optimal locations of new store using decision optimization', 'analyze accident reports on amazon emr spark', 'quick guide to build a recommendation engine in python', 'percentage of internet users by country', 'neural language modeling from scratch (part 1)', 'learning statistics on youtube', 'accelerate your workflow with dsx', 'interest rates', 'analyzing data by using the sparkling.data library features', 'breast cancer wisconsin (diagnostic) data set', 'interactive time series with dygraphs', 'health insurance (2015): united states demographic measures', 'imitation learning in tensorflow (hopper from openai gym)', '10 tips on using jupyter notebook', 'country statistics: infant mortality rate', 'use r dataframes & ibm watson natural language understanding', 'mobile-cellular telephone subscriptions per 100 inhabitants, worldwide', 'improved water source by country: % population with access', 'better together: spss and data science experience', '502    forgetting the past to learn the future: long ...\\nName: title, dtype: object', 'annual precipitation by country 1990-2009', '520    using notebooks with pixiedust for fast, flexi...\\nName: title, dtype: object', 'intentional homicide, number and rate per 100,000 population, by country', 'fortune 100 companies', 'jupyter notebook tutorial', 'high-tech exports as % of manufactured exports by country', 'a moving average trading strategy', 'education (2015): united states demographic measures', 'how to perform a logistic regression in r', 'python machine learning: scikit-learn tutorial', 'country statistics - europe - population and society', 'how smart catalogs can turn the big data flood into an ocean of opportunity', 'deep learning with tensorflow course by big data university', 'learn tensorflow and deep learning together and now!', 'apache spark lab, part 2: querying data', '15 page tutorial for r', 'analyze traffic data from the city of san francisco', 'country statistics: unemployment rate', 'read and write data to and from amazon s3 buckets in rstudio', 'how the circle line rogue train was caught with data', 'use decision optimization to schedule league games', 'airbnb data for analytics: vienna reviews', 'country statistics: health expenditures', 'using brunel in ipython/jupyter notebooks', 'generative adversarial networks (gans)', 'what is hadoop?', 'use spark for r to load data and run sql queries', 'working with notebooks in dsx', 'probabilistic graphical models tutorial\\u200a—\\u200apart 1 – stats and bots', 'household consumption expenditure', 'the greatest public datasets for ai – startup grind', 'this week in data science (august 02, 2016)', 'use spark r to load and analyze data', 'learn about data science in world of watson', \"a beginner's guide to variational methods\", 'occupation (2015): united states demographic measures', 'rapidly build machine learning flows with dsx', 'using machine learning to predict baseball injuries', 'use spark for scala to load data and run sql queries', 'simple linear regression? do it the bayesian way', 'deep learning trends and an example', 'analyze open data sets using pandas in a python notebook', 'airbnb data for analytics: barcelona reviews', 'machine learning for everyone', 'tidy up your jupyter notebooks with scripts', 'deep learning from scratch i: computational graphs', 'data visualization playbook: telling the data story', 'experience iot with coursera', 'use ibm data science experience to read and write data stored on amazon s3', 'this week in data science', 'what is text analytics?', 'analyzing streaming data from kafka topics', 'total population by country', 'working interactively with rstudio and notebooks in dsx', 'transfer learning for flight delay prediction via variational autoencoders', 'the nurse assignment problem data', 'uci: car evaluation', 'adolescent fertility rate (births per 1,000 women ages 15-19), worldwide', 'tensorflow quick tips', 'airbnb data for analytics: amsterdam listings', 'an introduction to scientific python (and a bit of the maths behind it) – numpy', '10 pieces of advice to beginner data scientists', 'uci: poker hand - testing data set', 'data model with streaming analytics and python', '1357    what i learned implementing a classifier from ...\\nName: title, dtype: object', 'how to use db2 warehouse on cloud in data science experience notebooks', 'movie recommender system with spark machine learning', 'modeling energy usage in new york city', '1448    i ranked every intro to data science course on...\\nName: title, dtype: object', 'airbnb data for analytics: berlin reviews', 'workflow in r', 'jupyter notebooks with scala, python, or r kernels', 'car performance data', 'fertility rate by country in total births per woman', 'brunel in jupyter', 'country statistics: stock of broad money', 'sparklyr — r interface for apache spark', 'deep learning with data science experience', 'learn basics about notebooks and apache spark', 'shaping data with ibm data refinery', 'enjoy python 3.5 in jupyter notebooks', 'the million dollar question: where is my data?', 'ibm watson machine learning: get started', 'challenges in deep learning', 'data science in the cloud', 'awesome deep learning papers', 'uci: forest fires', 'tidy data in python', 'from python nested lists to multidimensional numpy arrays', 'analyze db2 warehouse on cloud data in rstudio in dsx', 'neural networks for beginners: popular types and applications', 'rstudio ide  cheat sheet', 'world marriage data', 'flexdashboard: interactive dashboards for r', 'programmatic evaluation using watson conversation', 'forest area by country in sq km', 'uci: adult - predict income', 'developing ibm streams applications with the python api (version 1.6)', 'are your predictive models like broken clocks?', 'improving real-time object detection with yolo', 'persistent changes to spark config in dsx', 'access ibm analytics for apache spark from rstudio', 'mobile cellular subscriptions per 100 people by country', 'country population by gender 1985-2005', 'part-time employment rate, worldwide, by country and year', 'annual % population growth by country', 'country statistics: children under the age of 5 years underweight', 'cleaning the swamp: turn your data lake into a source of crystal-clear insight', 'leaflet: interactive web maps with r', 'an attempt to understand boosting algorithm(s)', 'wages', 'spark sql - rapid performance evolution', 'uci: poker hand - training data set', 'variational auto-encoder for \"frey faces\" using keras', 'easy json loading and social sharing in dsx notebooks', 'build a python app on the streaming analytics service', 'shiny 0.12: interactive plots with ggplot2', 'build a predictive analytic model', 'country statistics: telephones - mobile cellular', 'load data into rstudio for analysis in dsx', 'interactive web apps with shiny cheat sheet', 'times world university ranking analysis', 'uci: iris', 'real-time sentiment analysis of twitter hashtags with spark (+ pixiedust)', 'top 10 machine learning algorithms for beginners', 'collecting data science cheat sheets', 'agriculture, value added (% of gdp) by country', 'customer demographics and sales', 'score a predictive model built with ibm spss modeler, wml & dsx', 'sudoku', 'government consumption expenditure', 'super fast string matching in python', 'getting started with graphframes in apache spark™', 'connect to db2 warehouse on cloud and db2 using scala', \"2875    hugo larochelle's neural network & deep learni...\\nName: title, dtype: object\", '10 powerful features on watson data platform, no coding necessary', 'make machine learning a reality for your enterprise', 'declarative machine learning', 'working with db2 warehouse on cloud in data science experience', 'united states demographic measures: zip code tabulation areas (zctas)', 'access postgresql with python', 'making data science a team sport', 'the pandas data analysis library', 'word2vec in data products', 'reducing overplotting in scatterplots', '5 practical use cases of social network analytics: going beyond facebook and twitter', 'airbnb data for analytics: berlin calendar', 'notebooks: a power tool for data scientists', 'use the machine learning library', 'd3heatmap: interactive heat maps', 'births attended by skilled health staff (% of total) by country', 'the 3 kinds of context: machine learning and the art of the frame', 'introducing streams designer', 'country statistics: commercial bank prime lending rate', 'sector correlations shiny app', 'brunel interactive visualizations in jupyter notebooks', 'drowning in data sources: how data cataloging could fix your findability problems', 'brunel 2.0 preview', 'shiny: a data scientist’s best friend', 'new shiny cheat sheet and video tutorial', '3992    using apache spark to predict attack vectors a...\\nName: title, dtype: object', 'this week in data science (may 30, 2017)', 'uci: wine recognition', 'use data assets in a project using ibm data catalog', 'model a golomb ruler', 'airbnb data for analytics: boston calendar', 'pixiedust: magic for your python notebook', 'blogging with brunel', 'create a connection and add it to a project using ibm data refinery', 'mapping points with folium', 'uci: red wine quality', 'country statistics: gdp - per capita (ppp)', 'what caused the challenger disaster?', 'airbnb data for analytics: portland listings', 'shiny 0.13.0', 'data visualization playbook: revisiting the basics', 'hyperparameter optimization: sven hafeneger', 'detect malfunctioning iot sensors with streaming analytics', 'a comparison of logistic regression and naive bayes ', 'country statistics: distribution of family income - gini index', 'uci: abalone', 'country statistics: life expectancy at birth', 'airbnb data for analytics: new york city calendar', 'manage object storage in dsx', 'airbnb data for analytics: boston listings', 'using machine learning to predict value of homes on airbnb', 'pixiedust gets its first community-driven feature in 1.0.4', 'pixiedust 1.0 is here! – ibm watson data lab', 'dt: an r interface to the datatables library', 'airbnb data for analytics: amsterdam reviews', 'which one to choose for your problem', 'machine learning exercises in python, part 1', 'electric power consumption (kwh per capita) by country', 'adoption of machine learning to software failure prediction', 'airbnb data for analytics: portland reviews', 'airbnb data for analytics: portland calendar', 'spark 1.4 for rstudio', 'back to basics — jupyter notebooks', 'how to map usa rivers using ggplot2', 'airbnb data for analytics: venice listings', 'consumer prices', 'airbnb data for analytics: venice calendar', 'population below national poverty line, total, percentage', 'airbnb data for analytics: venice reviews', 'worldwide fuel oil consumption by household (in 1000 metric tons)', 'practical tutorial on random forest and parameter tuning in r', 'optimization for deep learning highlights in 2017', '0 to life-changing app: scala first steps and an interview with jakob odersky', 'ibm data catalog is now generally available', 'using deep learning with keras to predict customer churn', 'spark-based machine learning tools for capturing word meanings', 'leverage scikit-learn models with core ml', 'house building with worker skills', 'gradient boosting explained', 'three reasons machine learning models go out of sync', 'working with sqlite databases using python and pandas', 'country statistics: crude oil - proved reserves', 'country statistics: crude oil - exports', 'how to write the first for loop in r', 'upload data and create data frames in jupyter notebooks', \"i'd rather predict basketball games than elections: elastic nba rankings\", 'this week in data science (may 23, 2017)', 'i am not a data scientist – ibm watson data lab', 'predicting gentrification using longitudinal census data', 'this week in data science (march 28, 2017)', 'machine learning and the science of choosing', 'spark 2.1 and job monitoring available in dsx', 'deep forest: towards an alternative to deep neural networks', '10 essential algorithms for machine learning engineers', 'what’s new in the streaming analytics service on bluemix', 'neurally embedded emojis', 'data wrangling with dplyr and tidyr cheat sheet', 'why you should master r (even if it might eventually become obsolete)', 'best packages for data manipulation in r', 'this week in data science (april 18, 2017)', 'higher-order logistic regression for large datasets', 'roads paved as % of total roads by country', 'how to choose a project to practice data science', 'this week in data science (february 14, 2017)', 'data structures related to machine learning algorithms', 'united states demographic measures: population and age', 'data tidying in data science experience', 'trust in data science', 'a dynamic duo – inside machine learning – medium', 'this week in data science (april 25, 2017)', 'use spark for python to load data and run sql queries', 'ensemble learning to improve machine learning results', 'this week in data science (january 10, 2017)', 'apache spark™ 2.0: extend structured streaming for spark ml', 'using deep learning to reconstruct high-resolution audio', 'introduction to market basket analysis in\\xa0python', '7292    a dramatic tour through python’s data visualiz...\\nName: title, dtype: object', 'when machine learning matters · erik bernhardsson', 'the machine learning database', 'co2 emissions (metric tons per capita) by country', 'data science bowl 2017', 'the data science process', \"a kaggler's guide to model stacking in practice\", 'statistics for hackers', '10 data science podcasts you need to be listening to right now', 'employed population by occupation and age', 'this week in data science (april 4, 2017)', 'pearson correlation aggregation on sparksql', 'ml algorithm != learning machine', 'households by type of household, age and sex of head of household', 'hurricane how-to', 'this week in data science (january 24, 2017)', 'airbnb data for analytics: vienna listings', 'external debt stocks, total (dod, current us$) by country', 'what is machine learning?', 'automating web analytics through python', 'life expectancy at birth by country in total years', 'modern machine learning algorithms', 'markdown for jupyter notebooks cheatsheet', 'machine learning for the enterprise.', 'access postgresql with r', 'introduction to neural networks, advantages and applications', 'this week in data science (april 11, 2017)', \"let's have some fun with nfl data\", 'pulling and displaying etf data', 'this week in data science (january 31, 2017)', 'interconnect with us', '8170    data science expert interview: dez blanchfield...\\nName: title, dtype: object', 'environment statistics database - water', 'statistical bias types explained (with examples)', 'how to scale your analytics using r', '7 types of job profiles that makes you a data scientist', 'airbnb data for analytics: antwerp listings test', 'r for data science', 'flightpredict ii: the sequel  – ibm watson data lab', 'top 10 machine learning use cases: part 1', 'htmlwidgets: javascript data visualization for r', 'airbnb data for analytics: vancouver listings', 'what is smote in an imbalanced class setting (e.g. fraud detection)?', 'using machine learning to predict parking difficulty', 'improving the roi of big data and analytics through leveraging new sources of data', 'this week in data science (february 28, 2017)', 'this week in data science (may 2, 2017)', 'country statistics: reserves of foreign exchange and gold', 'airbnb data for analytics: sydney calendar', 'this week in data science (may 16, 2017)', 'some random weekend reading', 'airbnb data for analytics: antwerp reviews', 'artificial intelligence, ethically speaking – inside machine learning – medium', 'getting started with apache mahout', 'this week in data science (february 21, 2017)', 'airbnb data for analytics: toronto reviews', 'airbnb data for analytics: austin reviews', 'country statistics: internet users', 'clustering: a guide for the perplexed', 'using rstudio in ibm data science experience', 'recommendation system algorithms – stats and bots', 'use ibm data science experience to detect time series anomalies', 'recommender systems: approaches & algorithms', 'web picks by dataminingapps', 'enhanced color mapping', 'data science platforms are on the rise and ibm is leading the way', 'essentials of machine learning algorithms (with python and r codes)', 'web picks (week of 23 january 2017)', 'predicting the 2016 us presidential election', 'why relational databases and r?', 'publish notebooks to github in dsx', 'the art of side effects: curing apache spark streaming’s amnesia (part 1/2)', 'apache spark sql analyzer resolves order-by column', 'airbnb data for analytics: toronto calendar', 'don’t overlook simpler techniques and algorithms', 'airbnb data for analytics: washington d.c. reviews', 'airbnb data for analytics: sydney reviews', 'seti data, publicly available, from ibm', 'airbnb data for analytics: antwerp calendar', 'brunel: imitation is a sincere form of flattery', 'this week in data science (march 7, 2017)', 'country statistics: electricity - from fossil fuels', 'bayesian regularization for #neuralnetworks – autonomous agents\\u200a—\\u200a#ai', 'jupyter (ipython) notebooks features', 'apache spark™ 2.0: migrating applications', '0 to life-changing app: new apache systemml api on spark shell', 'airbnb data for analytics: paris listings', 'the power of machine learning in spark', 'nips 2016 — day 2 highlights', 'airbnb data for analytics: vienna calendar', 'airbnb data for analytics: trentino listings', 'making data cleaning simple with the sparkling.data library', 'airbnb data for analytics: vancouver reviews', 'how to ease the strain as your data volumes rise', 'country statistics: gross national saving', 'country statistics: telephones - fixed lines', 'data visualization playbook: the right level of detail', \"december '16 rstudio tips and tricks\", 'r markdown reference guide', 'this week in data science (february 7, 2017)', 'ratio (% of population) at national poverty line by country', 'backpropagation — how neural networks learn complex behaviors', 'united states demographic measures: education', 'finding the user in data science', 'statistical bias types explained', 'airbnb data for analytics: trentino reviews', 'tidyverse practice: mapping large european cities', 'a classification problem', 'share the (pixiedust) magic – ibm watson data lab – medium', 'country statistics: central bank discount rate', 'data visualization with ggplot2 cheat sheet', 'airbnb data for analytics: sydney listings', 'data science experience demo: modeling energy usage in nyc', 'country statistics: roadways', 'tidyr 0.6.0', 'analyze starcraft ii replays with jupyter notebooks', 'twelve\\xa0ways to color a map of africa using brunel', 'how open api economy accelerates the growth of big data and analytics', 'unstructured and structured data versus repetitive and non-repetitive', 'airbnb data for analytics: seattle reviews', 'country statistics: stock of domestic credit', 'run shiny applications in rstudio in dsx', 'airbnb data for analytics: dublin reviews', \"feature importance and why it's important\", 'pseudo-labeling a simple semi-supervised learning method', 'using apply, sapply, lapply in r', 'gross national income per capita, atlas method (current us$) by country', 'airbnb data for analytics: barcelona listings', 'open sourcing 223gb of driving data – udacity inc', 'worldwide electricity demand and production 1990-2012', 'random forest interpretation – conditional feature contributions', 'how can data scientists collaborate to build better business', 'airbnb data for analytics: chicago listings', 'what is systemml? why is it relevant to you?', 'top 20 r machine learning and data science packages', 'data visualization: the importance of excluding unnecessary details', 'airbnb data for analytics: madrid listings', 'apache spark™ 2.0: impressive improvements to spark sql', 'one year as a data scientist at stack overflow', 'web picks (week of 4 september 2017)', 'united states demographic measures: income', 'this week in data science (november 01, 2016)', 'a visual explanation of the back propagation algorithm for neural networks', '8 ways to turn data into value with apache spark machine learning', 'a glimpse inside the mind of a data scientist', 'airbnb data for analytics: nashville calendar', 'military expenditure as % of gdp by country', 'improving quality of life with spark-empowered machine learning', '20405    how to tame the valley — hessian-free hacks fo...\\nName: title, dtype: object', 'the difference between ai, machine learning, and deep learning?', 'time series analysis using max/min and neuroscience', 'country statistics: population', 'country statistics: airports', 'airbnb data for analytics: toronto listings', 'airbnb data for analytics: antwerp listings', 'an interview with pythonista katharine jarmul', 'labor', 'country statistics: maternal mortality rate', 'the data processing inequality', 'total employment, by economic activity (thousands)', 'airbnb data for analytics: boston reviews', 'airbnb data for analytics: new york city reviews', 'top analytics tools in 2016', 'apache spark 2.0: machine learning. under the hood and over the rainbow.', 'what is spark?', 'energy use (kg of oil equivalent per capita) by country', 'apache systemml', 'beyond parallelize and collect', 'airbnb data for analytics: brussels reviews', 'how to get a job in deep learning', 'country statistics: crude oil - imports', 'building custom machine learning algorithms with apache systemml', 'laplace noising versus simulated out of sample methods (cross frames)', 'marital status of men and women', 'foundational methodology for data science', 'airbnb data for analytics: paris reviews', 'the new builders podcast ep 3: collaboration', 'creating the data science experience', 'intelligent applications - apache spark', 'recent trends in recommender systems', 'country populations 15 years of age and over, by educational attainment, age and sex', 'country statistics: current account balance', 'apache spark @scale: a 60 tb+ production use case', 'a survey of books about apache spark™', 'using the maker palette in the ibm data science experience', 'airbnb data for analytics: san diego reviews', 'airbnb data for analytics: athens listings', 'a fast on-disk format for data frames for r and python, powered by apache arrow', 'country surface area (sq. km)', 'a day in the life of a data engineer', 'data science experience documentation', 'this week in data science (january 17, 2017)', 'airbnb data for analytics: new orleans listings', 'advancements in the spark community', 'airbnb data for analytics: vancouver calendar', \"h2o with ibm's data science experience (dsx)\", 'this week in data science (july 26, 2016)', 'readr 1.0.0', 'airbnb data for analytics: oakland reviews', 'worldwide county and region - national accounts - gross national income 1948-2010', 'international liquidity', 'airbnb data for analytics: trentino calendar', 'primary school completion rate % of relevant age group by country', 'airbnb data for analytics: mallorca reviews', 'airbnb data for analytics: athens calendar', 'machine learning for the enterprise', 'do i need to learn r?', 'a new version of dt (0.2) on cran', 'airbnb data for analytics: san francisco listings', 'natural gas production, 1995 - 2012, worldwide', 'unmet need for family planning, spacing, percentage, worldwide, by country', 'cache table in apache spark sql', 'ggplot2 2.2.0 coming soon!', 'this week in data science (november 22, 2016)', 'airbnb data for analytics: paris calendar', 'xml2 1.0.0', 'this week in data science (december 27, 2016)', 'airbnb data for analytics: athens reviews', 'measles immunization % children 12-23 months by country', 'consumption of ozone-depleting cfcs in odp metric tons', 'airbnb data for analytics: montreal listings', 'airbnb data for analytics: new orleans reviews', 'dplyr 0.5.0', 'roads, paved (% of total roads), worldwide, 1990-2011', 'let data dictate the visualization', 'foreign direct investment, net inflows (bop, current us$) by country', 'big data is better data', 'package development with devtools  cheat sheet', 'can a.i. be taught to explain itself?', 'get social with your notebooks in dsx', 'run dsx notebooks on amazon emr', 'using bigdl in dsx for deep learning on spark', 'overlapping co-cluster recommendation algorithm (ocular)', 'using dsx notebooks to analyze github data', 'airbnb data for analytics: santa cruz county reviews', '51822    using apache spark as a parallel processing fr...\\nName: title, dtype: object', 'web picks (december 2017)', '3 scenarios for machine learning on multicloud', 'discover, catalog and govern data with ibm data catalog', 'greenhouse gas emissions worldwide', 'visualising data the node.js way', 'governance overview for ibm data catalog', 'mycheatsheets.com', 'perform sentiment analysis with lstms, using tensorflow', 'this week in data science (october 18, 2016)', 'poverty (2015): united states demographic measures', 'visual information theory ', 'build a logistic regression model with wml & dsx', 'country statistics: electricity - consumption', 'how ibm builds an effective data science team', 'join and enrich data from multiple sources', 'deep learning achievements over the past year ', 'airbnb data for analytics: austin calendar', 'visualize the 1854 london cholera outbreak', 'process events from the watson iot platform in a streams python application', 'aspiring data scientists! start to learn statistics with these 6 books!', 'airbnb data for analytics: barcelona calendar', 'country statistics: imports', '54174    detect potentially malfunctioning sensors in r...\\nName: title, dtype: object', 'calculate moving averages on real time data with streams designer', 'airbnb data for analytics: london reviews', 'transform anything into a vector', 'breaking the 80/20 rule: how data catalogs transform data scientists’ productivity', 'generalization in deep learning', 'ingest data from message hub in a streams flow', '9 mistakes to avoid when starting your career in data science', 'predicting flight cancellations using weather data, part 3', 'probabilistic graphical models tutorial\\u200a—\\u200apart 2 – stats and bots', 'develop a scala spark model on chicago building violations', '10 data science, machine learning and ai podcasts you must listen to', 'country statistics: budget surplus or deficit', 'small steps to tensorflow', 'migrating to python 3 with pleasure', 'collect your own fitbit data with python', 'load db2 warehouse on cloud data with apache spark in dsx', 'how to solve 90% of nlp problems', '56594    lifelong (machine) learning: how automation ca...\\nName: title, dtype: object', 'python if statements explained (python for data science basics #4)', 'fighting gerrymandering: using data science to draw fairer congressional districts', 'work with data connections in dsx', 'analyze ny restaurant data using spark in dsx', 'working with ibm cloud object storage in python', 'watson machine learning for developers', 'apache spark: upgrade and speed-up your analytics', 'making sense of the bias / variance trade-off in (deep) reinforcement learning', 'categorize urban density', 'ibm data catalog overview', '70 amazing free data sources you should know', 'working with ibm cloud object storage in r', 'predict chronic kidney disease using spss modeler flows', 'building your first machine learning system ', 'country statistics: natural gas - consumption', 'python for loops explained (python for data science basics #5)', \"for ai to get creative, it must learn the rules--then how to break 'em\", 'data science of variable selection', 'why even a moth’s brain is smarter than an ai', 'deep learning, structure and innate priors', 'a guide to convolution arithmetic for deep learning', 'a guide to receptive field arithmetic for convolutional neural networks', 'the two phases of gradient descent in deep learning', 'the random forest algorithm ', 'get started with streams designer by following this roadmap', 'time series anomaly detection algorithms – stats and bots', 'announcing dsx environments in beta!', 'effectively using\\xa0matplotlib', 'missing data conundrum: exploration and imputation techniques', 'calls by customers of a telco company', 'customers of a telco including services used', 'empirical bayes for multiple sample sizes', 'country statistics: industrial production growth rate', 'the t-distribution: a key statistical concept discovered by a beer brewery', 'talent vs luck: the role of randomness in success and failure', 'working with on-premises databases — step by step', 'airbnb data for analytics: london listings', 'airbnb data for analytics: san diego listings', 'environment statistics database - waste', 'understanding empirical bayes estimation (using baseball statistics)', 'bayesian nonparametric models – stats and bots', 'cifar-100 - python version', 'fashion-mnist', 'country statistics: refined petroleum products - production', 'ibm cloud sql query', 'cifar-10 - python version', 'watson assistant workspace analysis with user logs', 'airbnb data for analytics: chicago calendar', 'use iot data in streams designer for billing and alerts', 'breast cancer detection with xgboost, wml and scikit', 'introducing ibm watson studio ', 'best practices for custom models in watson visual recognition', 'apple, ibm add machine learning to partnership with watson-core ml coupling', 'analyze facebook data using ibm watson and watson studio', 'find airbnb deals in portland with machine learning using r', 'from scikit-learn model to cloud with wml client', 'watson speech-to-text services — tl;dr need not apply', 'from local spark mllib model to cloud with watson machine learning', 'social media insights with watson developer cloud & watson studio', 'from spark ml model to online scoring with scala', 'analyze data, build a dashboard with spark and pixiedust', 'predict loan applicant behavior with tensorflow neural networking', 'annual % inflation by country', 'continuous learning on watson', 'using shell scripts to control data flows created in watson applications', '66855    migration from ibm bluemix data connect api (a...\\nName: title, dtype: object', 'what’s new in data refinery?', 'stacking multiple custom models in watson visual recognition', 'style transfer experiments with watson machine learning', 'country statistics: merchant marine', 'geographic coordinates of world locations', 'webinar: april 11 - thinking inside the box: you can do that inside a data frame?!', 'dimensionality reduction algorithms', 'build deep learning architectures with neural network modeler', 'a tensorflow regression model to predict house values', 'use pmml to predict iris species', 'country statistics: railways', 'airbnb data for analytics: chicago reviews', 'refugees', 'refugees, worldwide, 2003 - 2013', '68879    don’t throw more data at the problem! here’s h...\\nName: title, dtype: object', 'you could be looking at it all wrong', 'airbnb data for analytics: seattle calendar', 'web picks (week of 2 october 2017)', 'data science expert interview: holden karau', 'create a project for watson machine learning in dsx', 'country statistics: market value of publicly traded shares', 'airbnb data for analytics: washington d.c. calendar', 'build a naive-bayes model with wml & dsx', 'load and analyze public data sets in dsx', 'the new builders ep. 13: all the data that’s fit to analyze', 'create a project in dsx']\n"
     ]
    }
   ],
   "source": [
    "# Quick spot check - don't change this code - just use it to test your functions\n",
    "rec_ids, rec_names = user_user_recs_part2(20, 10)\n",
    "print(\"The top 10 recommendations for user 20 are the following article ids:\")\n",
    "print(rec_ids)\n",
    "print()\n",
    "print(\"The top 10 recommendations for user 20 are the following article names:\")\n",
    "print(rec_names)"
   ]
  },
  {
   "cell_type": "markdown",
   "metadata": {},
   "source": [
    "`5.` Use your functions from above to correctly fill in the solutions to the dictionary below.  Then test your dictionary against the solution.  Provide the code you need to answer each following the comments below."
   ]
  },
  {
   "cell_type": "code",
   "execution_count": null,
   "metadata": {
    "collapsed": true,
    "jupyter": {
     "outputs_hidden": true
    }
   },
   "outputs": [],
   "source": [
    "### Tests with a dictionary of results\n",
    "\n",
    "user1_most_sim = # Find the user that is most similar to user 1 \n",
    "user131_10th_sim = # Find the 10th most similar user to user 131"
   ]
  },
  {
   "cell_type": "code",
   "execution_count": null,
   "metadata": {
    "collapsed": true,
    "jupyter": {
     "outputs_hidden": true
    }
   },
   "outputs": [],
   "source": [
    "## Dictionary Test Here\n",
    "sol_5_dict = {\n",
    "    'The user that is most similar to user 1.': user1_most_sim, \n",
    "    'The user that is the 10th most similar to user 131': user131_10th_sim,\n",
    "}\n",
    "\n",
    "t.sol_5_test(sol_5_dict)"
   ]
  },
  {
   "cell_type": "markdown",
   "metadata": {},
   "source": [
    "`6.` If we were given a new user, which of the above functions would you be able to use to make recommendations?  Explain.  Can you think of a better way we might make recommendations?  Use the cell below to explain a better method for new users."
   ]
  },
  {
   "cell_type": "markdown",
   "metadata": {},
   "source": [
    "**Provide your response here.**"
   ]
  },
  {
   "cell_type": "markdown",
   "metadata": {},
   "source": [
    "`7.` Using your existing functions, provide the top 10 recommended articles you would provide for the a new user below.  You can test your function against our thoughts to make sure we are all on the same page with how we might make a recommendation."
   ]
  },
  {
   "cell_type": "code",
   "execution_count": null,
   "metadata": {
    "collapsed": true,
    "jupyter": {
     "outputs_hidden": true
    }
   },
   "outputs": [],
   "source": [
    "new_user = '0.0'\n",
    "\n",
    "# What would your recommendations be for this new user '0.0'?  As a new user, they have no observed articles.\n",
    "# Provide a list of the top 10 article ids you would give to \n",
    "new_user_recs = # Your recommendations here\n",
    "\n"
   ]
  },
  {
   "cell_type": "code",
   "execution_count": null,
   "metadata": {
    "collapsed": true,
    "jupyter": {
     "outputs_hidden": true
    }
   },
   "outputs": [],
   "source": [
    "assert set(new_user_recs) == set(['1314.0','1429.0','1293.0','1427.0','1162.0','1364.0','1304.0','1170.0','1431.0','1330.0']), \"Oops!  It makes sense that in this case we would want to recommend the most popular articles, because we don't know anything about these users.\"\n",
    "\n",
    "print(\"That's right!  Nice job!\")"
   ]
  },
  {
   "cell_type": "markdown",
   "metadata": {},
   "source": [
    "### <a class=\"anchor\" id=\"Content-Recs\">Part IV: Content Based Recommendations (EXTRA - NOT REQUIRED)</a>\n",
    "\n",
    "Another method we might use to make recommendations is to perform a ranking of the highest ranked articles associated with some term.  You might consider content to be the **doc_body**, **doc_description**, or **doc_full_name**.  There isn't one way to create a content based recommendation, especially considering that each of these columns hold content related information.  \n",
    "\n",
    "`1.` Use the function body below to create a content based recommender.  Since there isn't one right answer for this recommendation tactic, no test functions are provided.  Feel free to change the function inputs if you decide you want to try a method that requires more input values.  The input values are currently set with one idea in mind that you may use to make content based recommendations.  One additional idea is that you might want to choose the most popular recommendations that meet your 'content criteria', but again, there is a lot of flexibility in how you might make these recommendations.\n",
    "\n",
    "### This part is NOT REQUIRED to pass this project.  However, you may choose to take this on as an extra way to show off your skills."
   ]
  },
  {
   "cell_type": "code",
   "execution_count": null,
   "metadata": {
    "collapsed": true,
    "jupyter": {
     "outputs_hidden": true
    }
   },
   "outputs": [],
   "source": [
    "def make_content_recs():\n",
    "    '''\n",
    "    INPUT:\n",
    "    \n",
    "    OUTPUT:\n",
    "    \n",
    "    '''"
   ]
  },
  {
   "cell_type": "markdown",
   "metadata": {},
   "source": [
    "`2.` Now that you have put together your content-based recommendation system, use the cell below to write a summary explaining how your content based recommender works.  Do you see any possible improvements that could be made to your function?  Is there anything novel about your content based recommender?\n",
    "\n",
    "### This part is NOT REQUIRED to pass this project.  However, you may choose to take this on as an extra way to show off your skills."
   ]
  },
  {
   "cell_type": "markdown",
   "metadata": {},
   "source": [
    "**Write an explanation of your content based recommendation system here.**"
   ]
  },
  {
   "cell_type": "markdown",
   "metadata": {},
   "source": [
    "`3.` Use your content-recommendation system to make recommendations for the below scenarios based on the comments.  Again no tests are provided here, because there isn't one right answer that could be used to find these content based recommendations.\n",
    "\n",
    "### This part is NOT REQUIRED to pass this project.  However, you may choose to take this on as an extra way to show off your skills."
   ]
  },
  {
   "cell_type": "code",
   "execution_count": null,
   "metadata": {
    "collapsed": true,
    "jupyter": {
     "outputs_hidden": true
    }
   },
   "outputs": [],
   "source": [
    "# make recommendations for a brand new user\n",
    "\n",
    "\n",
    "# make a recommendations for a user who only has interacted with article id '1427.0'\n",
    "\n"
   ]
  },
  {
   "cell_type": "markdown",
   "metadata": {},
   "source": [
    "### <a class=\"anchor\" id=\"Matrix-Fact\">Part V: Matrix Factorization</a>\n",
    "\n",
    "In this part of the notebook, you will build use matrix factorization to make article recommendations to the users on the IBM Watson Studio platform.\n",
    "\n",
    "`1.` You should have already created a **user_item** matrix above in **question 1** of **Part III** above.  This first question here will just require that you run the cells to get things set up for the rest of **Part V** of the notebook. "
   ]
  },
  {
   "cell_type": "code",
   "execution_count": null,
   "metadata": {
    "collapsed": true,
    "jupyter": {
     "outputs_hidden": true
    }
   },
   "outputs": [],
   "source": [
    "# Load the matrix here\n",
    "user_item_matrix = pd.read_pickle('user_item_matrix.p')"
   ]
  },
  {
   "cell_type": "code",
   "execution_count": null,
   "metadata": {
    "collapsed": true,
    "jupyter": {
     "outputs_hidden": true
    }
   },
   "outputs": [],
   "source": [
    "# quick look at the matrix\n",
    "user_item_matrix.head()"
   ]
  },
  {
   "cell_type": "markdown",
   "metadata": {},
   "source": [
    "`2.` In this situation, you can use Singular Value Decomposition from [numpy](https://docs.scipy.org/doc/numpy-1.14.0/reference/generated/numpy.linalg.svd.html) on the user-item matrix.  Use the cell to perfrom SVD, and explain why this is different than in the lesson."
   ]
  },
  {
   "cell_type": "code",
   "execution_count": null,
   "metadata": {
    "collapsed": true,
    "jupyter": {
     "outputs_hidden": true
    }
   },
   "outputs": [],
   "source": [
    "# Perform SVD on the User-Item Matrix Here\n",
    "\n",
    "u, s, vt = # use the built in to get the three matrices"
   ]
  },
  {
   "cell_type": "markdown",
   "metadata": {},
   "source": [
    "**Provide your response here.**"
   ]
  },
  {
   "cell_type": "markdown",
   "metadata": {},
   "source": [
    "`3.` Now for the tricky part, how do we choose the number of latent features to use?  Running the below cell, you can see that as the number of latent features increases, we obtain a lower error rate on making predictions for the 1 and 0 values in the user-item matrix.  Run the cell below to get an idea of how the accuracy improves as we increase the number of latent features."
   ]
  },
  {
   "cell_type": "code",
   "execution_count": null,
   "metadata": {
    "collapsed": true,
    "jupyter": {
     "outputs_hidden": true
    }
   },
   "outputs": [],
   "source": [
    "num_latent_feats = np.arange(10,700+10,20)\n",
    "sum_errs = []\n",
    "\n",
    "for k in num_latent_feats:\n",
    "    # restructure with k latent features\n",
    "    s_new, u_new, vt_new = np.diag(s[:k]), u[:, :k], vt[:k, :]\n",
    "    \n",
    "    # take dot product\n",
    "    user_item_est = np.around(np.dot(np.dot(u_new, s_new), vt_new))\n",
    "    \n",
    "    # compute error for each prediction to actual value\n",
    "    diffs = np.subtract(user_item_matrix, user_item_est)\n",
    "    \n",
    "    # total errors and keep track of them\n",
    "    err = np.sum(np.sum(np.abs(diffs)))\n",
    "    sum_errs.append(err)\n",
    "    \n",
    "    \n",
    "plt.plot(num_latent_feats, 1 - np.array(sum_errs)/df.shape[0]);\n",
    "plt.xlabel('Number of Latent Features');\n",
    "plt.ylabel('Accuracy');\n",
    "plt.title('Accuracy vs. Number of Latent Features');"
   ]
  },
  {
   "cell_type": "markdown",
   "metadata": {},
   "source": [
    "`4.` From the above, we can't really be sure how many features to use, because simply having a better way to predict the 1's and 0's of the matrix doesn't exactly give us an indication of if we are able to make good recommendations.  Instead, we might split our dataset into a training and test set of data, as shown in the cell below.  \n",
    "\n",
    "Use the code from question 3 to understand the impact on accuracy of the training and test sets of data with different numbers of latent features. Using the split below: \n",
    "\n",
    "* How many users can we make predictions for in the test set?  \n",
    "* How many users are we not able to make predictions for because of the cold start problem?\n",
    "* How many articles can we make predictions for in the test set?  \n",
    "* How many articles are we not able to make predictions for because of the cold start problem?"
   ]
  },
  {
   "cell_type": "code",
   "execution_count": null,
   "metadata": {
    "collapsed": true,
    "jupyter": {
     "outputs_hidden": true
    }
   },
   "outputs": [],
   "source": [
    "df_train = df.head(40000)\n",
    "df_test = df.tail(5993)\n",
    "\n",
    "def create_test_and_train_user_item(df_train, df_test):\n",
    "    '''\n",
    "    INPUT:\n",
    "    df_train - training dataframe\n",
    "    df_test - test dataframe\n",
    "    \n",
    "    OUTPUT:\n",
    "    user_item_train - a user-item matrix of the training dataframe \n",
    "                      (unique users for each row and unique articles for each column)\n",
    "    user_item_test - a user-item matrix of the testing dataframe \n",
    "                    (unique users for each row and unique articles for each column)\n",
    "    test_idx - all of the test user ids\n",
    "    test_arts - all of the test article ids\n",
    "    \n",
    "    '''\n",
    "    # Your code here\n",
    "    \n",
    "    return user_item_train, user_item_test, test_idx, test_arts\n",
    "\n",
    "user_item_train, user_item_test, test_idx, test_arts = create_test_and_train_user_item(df_train, df_test)"
   ]
  },
  {
   "cell_type": "code",
   "execution_count": null,
   "metadata": {
    "collapsed": true,
    "jupyter": {
     "outputs_hidden": true
    }
   },
   "outputs": [],
   "source": [
    "# Replace the values in the dictionary below\n",
    "a = 662 \n",
    "b = 574 \n",
    "c = 20 \n",
    "d = 0 \n",
    "\n",
    "\n",
    "sol_4_dict = {\n",
    "    'How many users can we make predictions for in the test set?': # letter here, \n",
    "    'How many users in the test set are we not able to make predictions for because of the cold start problem?': # letter here, \n",
    "    'How many articles can we make predictions for in the test set?': # letter here,\n",
    "    'How many articles in the test set are we not able to make predictions for because of the cold start problem?': # letter here\n",
    "}\n",
    "\n",
    "t.sol_4_test(sol_4_dict)"
   ]
  },
  {
   "cell_type": "markdown",
   "metadata": {},
   "source": [
    "`5.` Now use the **user_item_train** dataset from above to find **U**, **S**, and **V** transpose using SVD. Then find the subset of rows in the **user_item_test** dataset that you can predict using this matrix decomposition with different numbers of latent features to see how many features makes sense to keep based on the accuracy on the test data. This will require combining what was done in questions `2` - `4`.\n",
    "\n",
    "Use the cells below to explore how well SVD works towards making predictions for recommendations on the test data.  "
   ]
  },
  {
   "cell_type": "code",
   "execution_count": null,
   "metadata": {
    "collapsed": true,
    "jupyter": {
     "outputs_hidden": true
    }
   },
   "outputs": [],
   "source": [
    "# fit SVD on the user_item_train matrix\n",
    "u_train, s_train, vt_train = # fit svd similar to above then use the cells below"
   ]
  },
  {
   "cell_type": "code",
   "execution_count": null,
   "metadata": {
    "collapsed": true,
    "jupyter": {
     "outputs_hidden": true
    }
   },
   "outputs": [],
   "source": [
    "# Use these cells to see how well you can use the training \n",
    "# decomposition to predict on test data"
   ]
  },
  {
   "cell_type": "code",
   "execution_count": null,
   "metadata": {
    "collapsed": true,
    "jupyter": {
     "outputs_hidden": true
    }
   },
   "outputs": [],
   "source": []
  },
  {
   "cell_type": "code",
   "execution_count": null,
   "metadata": {
    "collapsed": true,
    "jupyter": {
     "outputs_hidden": true
    }
   },
   "outputs": [],
   "source": []
  },
  {
   "cell_type": "markdown",
   "metadata": {},
   "source": [
    "`6.` Use the cell below to comment on the results you found in the previous question. Given the circumstances of your results, discuss what you might do to determine if the recommendations you make with any of the above recommendation systems are an improvement to how users currently find articles? "
   ]
  },
  {
   "cell_type": "markdown",
   "metadata": {},
   "source": [
    "**Your response here.**"
   ]
  },
  {
   "cell_type": "markdown",
   "metadata": {},
   "source": [
    "<a id='conclusions'></a>\n",
    "### Extras\n",
    "Using your workbook, you could now save your recommendations for each user, develop a class to make new predictions and update your results, and make a flask app to deploy your results.  These tasks are beyond what is required for this project.  However, from what you learned in the lessons, you certainly capable of taking these tasks on to improve upon your work here!\n",
    "\n",
    "\n",
    "## Conclusion\n",
    "\n",
    "> Congratulations!  You have reached the end of the Recommendations with IBM project! \n",
    "\n",
    "> **Tip**: Once you are satisfied with your work here, check over your report to make sure that it is satisfies all the areas of the rubric (found on the project submission page at the end of the lesson). You should also probably remove all of the \"Tips\" like this one so that the presentation is as polished as possible.\n",
    "\n",
    "\n",
    "## Directions to Submit\n",
    "\n",
    "> Before you submit your project, you need to create a .html or .pdf version of this notebook in the workspace here. To do that, run the code cell below. If it worked correctly, you should get a return code of 0, and you should see the generated .html file in the workspace directory (click on the orange Jupyter icon in the upper left).\n",
    "\n",
    "> Alternatively, you can download this report as .html via the **File** > **Download as** submenu, and then manually upload it into the workspace directory by clicking on the orange Jupyter icon in the upper left, then using the Upload button.\n",
    "\n",
    "> Once you've done this, you can submit your project by clicking on the \"Submit Project\" button in the lower right here. This will create and submit a zip file with this .ipynb doc and the .html or .pdf version you created. Congratulations! "
   ]
  },
  {
   "cell_type": "code",
   "execution_count": null,
   "metadata": {
    "collapsed": true,
    "jupyter": {
     "outputs_hidden": true
    }
   },
   "outputs": [],
   "source": [
    "from subprocess import call\n",
    "call(['python', '-m', 'nbconvert', 'Recommendations_with_IBM.ipynb'])"
   ]
  }
 ],
 "metadata": {
  "kernelspec": {
   "display_name": "Python 3",
   "language": "python",
   "name": "python3"
  },
  "language_info": {
   "codemirror_mode": {
    "name": "ipython",
    "version": 3
   },
   "file_extension": ".py",
   "mimetype": "text/x-python",
   "name": "python",
   "nbconvert_exporter": "python",
   "pygments_lexer": "ipython3",
   "version": "3.7.6"
  }
 },
 "nbformat": 4,
 "nbformat_minor": 4
}
